{
 "cells": [
  {
   "cell_type": "markdown",
   "metadata": {},
   "source": [
    "# Roberta Tests for LLM Project"
   ]
  },
  {
   "cell_type": "code",
   "execution_count": 1,
   "metadata": {},
   "outputs": [
    {
     "name": "stderr",
     "output_type": "stream",
     "text": [
      "/home/hpate061/anaconda3/envs/Research/lib/python3.11/site-packages/tqdm/auto.py:21: TqdmWarning: IProgress not found. Please update jupyter and ipywidgets. See https://ipywidgets.readthedocs.io/en/stable/user_install.html\n",
      "  from .autonotebook import tqdm as notebook_tqdm\n"
     ]
    }
   ],
   "source": [
    "from transformers import RobertaTokenizer, RobertaForSequenceClassification\n",
    "from datasets import load_dataset\n",
    "import torch\n",
    "import numpy as np\n",
    "import tensorly as tl\n",
    "import matplotlib.pyplot as plt"
   ]
  },
  {
   "cell_type": "code",
   "execution_count": 2,
   "metadata": {},
   "outputs": [],
   "source": [
    "# Loading the BigBench-epistemic Rasoning dataset\n",
    "raw_dataset = load_dataset(\"tasksource/bigbench\", \"epistemic_reasoning\")\n",
    "choices = [\"entailment\", \"non-entailment\"]\n",
    "dataset = [] \n",
    "for split_ in [\"validation\", \"train\"]:\n",
    "    for dp in raw_dataset[split_]:\n",
    "        targets = dp[\"targets\"]\n",
    "        assert len(targets) == 1\n",
    "        assert targets[0] in choices\n",
    "        dataset.append((dp[\"inputs\"], targets[0]))"
   ]
  },
  {
   "cell_type": "code",
   "execution_count": 3,
   "metadata": {},
   "outputs": [
    {
     "data": {
      "text/plain": [
       "(\"Identify the relation between the following premises and hypotheses, choosing from the options 'entailment' or 'non-entailment'.\\n\\nPremise: Michael suspects that Richard recognizes that one woman with jeans, gray shirt and sandals; with girl in all pink watching a white ball float in midair. Hypothesis: Michael suspects that one woman with jeans, gray shirt and sandals; with girl in all pink watching a white ball float in midair.\\nRelation:\",\n",
       " 'entailment')"
      ]
     },
     "execution_count": 3,
     "metadata": {},
     "output_type": "execute_result"
    }
   ],
   "source": [
    "dataset[1]"
   ]
  },
  {
   "cell_type": "code",
   "execution_count": 4,
   "metadata": {},
   "outputs": [
    {
     "name": "stderr",
     "output_type": "stream",
     "text": [
      "Some weights of RobertaForSequenceClassification were not initialized from the model checkpoint at roberta-base and are newly initialized: ['classifier.dense.weight', 'classifier.out_proj.bias', 'classifier.out_proj.weight', 'classifier.dense.bias']\n",
      "You should probably TRAIN this model on a down-stream task to be able to use it for predictions and inference.\n"
     ]
    },
    {
     "data": {
      "text/plain": [
       "RobertaForSequenceClassification(\n",
       "  (roberta): RobertaModel(\n",
       "    (embeddings): RobertaEmbeddings(\n",
       "      (word_embeddings): Embedding(50265, 768, padding_idx=1)\n",
       "      (position_embeddings): Embedding(514, 768, padding_idx=1)\n",
       "      (token_type_embeddings): Embedding(1, 768)\n",
       "      (LayerNorm): LayerNorm((768,), eps=1e-05, elementwise_affine=True)\n",
       "      (dropout): Dropout(p=0.1, inplace=False)\n",
       "    )\n",
       "    (encoder): RobertaEncoder(\n",
       "      (layer): ModuleList(\n",
       "        (0-11): 12 x RobertaLayer(\n",
       "          (attention): RobertaAttention(\n",
       "            (self): RobertaSelfAttention(\n",
       "              (query): Linear(in_features=768, out_features=768, bias=True)\n",
       "              (key): Linear(in_features=768, out_features=768, bias=True)\n",
       "              (value): Linear(in_features=768, out_features=768, bias=True)\n",
       "              (dropout): Dropout(p=0.1, inplace=False)\n",
       "            )\n",
       "            (output): RobertaSelfOutput(\n",
       "              (dense): Linear(in_features=768, out_features=768, bias=True)\n",
       "              (LayerNorm): LayerNorm((768,), eps=1e-05, elementwise_affine=True)\n",
       "              (dropout): Dropout(p=0.1, inplace=False)\n",
       "            )\n",
       "          )\n",
       "          (intermediate): RobertaIntermediate(\n",
       "            (dense): Linear(in_features=768, out_features=3072, bias=True)\n",
       "            (intermediate_act_fn): GELUActivation()\n",
       "          )\n",
       "          (output): RobertaOutput(\n",
       "            (dense): Linear(in_features=3072, out_features=768, bias=True)\n",
       "            (LayerNorm): LayerNorm((768,), eps=1e-05, elementwise_affine=True)\n",
       "            (dropout): Dropout(p=0.1, inplace=False)\n",
       "          )\n",
       "        )\n",
       "      )\n",
       "    )\n",
       "  )\n",
       "  (classifier): RobertaClassificationHead(\n",
       "    (dense): Linear(in_features=768, out_features=768, bias=True)\n",
       "    (dropout): Dropout(p=0.1, inplace=False)\n",
       "    (out_proj): Linear(in_features=768, out_features=2, bias=True)\n",
       "  )\n",
       ")"
      ]
     },
     "execution_count": 4,
     "metadata": {},
     "output_type": "execute_result"
    }
   ],
   "source": [
    "tokenizer = RobertaTokenizer.from_pretrained(\"roberta-base\")\n",
    "model = RobertaForSequenceClassification.from_pretrained(\"roberta-base\", num_labels=2)\n",
    "\n",
    "device = torch.device(\"cuda\") if torch.cuda.is_available() else torch.device(\"cpu\")\n",
    "model.to(device)"
   ]
  },
  {
   "cell_type": "code",
   "execution_count": 5,
   "metadata": {},
   "outputs": [],
   "source": [
    "tokenized_data = tokenizer([item[0] for item in dataset], padding=True, truncation=True, return_tensors='pt')\n",
    "labels = torch.tensor([1 if item[1] == 'entailment' else 0 for item in dataset])\n"
   ]
  },
  {
   "cell_type": "code",
   "execution_count": 6,
   "metadata": {},
   "outputs": [],
   "source": [
    "# DataLoader \n",
    "from torch.utils.data import DataLoader\n",
    "\n",
    "class Dataset(torch.utils.data.Dataset):\n",
    "    def __init__(self, encodings, labels):\n",
    "        self.encodings = encodings\n",
    "        self.labels = labels\n",
    "\n",
    "    def __getitem__(self, idx):\n",
    "        item = {key: val[idx] for key, val in self.encodings.items()}\n",
    "        item['labels'] = self.labels[idx]\n",
    "        return item\n",
    "\n",
    "    def __len__(self):\n",
    "        return len(self.labels)\n",
    "    \n",
    "data_loader = DataLoader(Dataset(tokenized_data, labels), batch_size=8)"
   ]
  },
  {
   "cell_type": "code",
   "execution_count": 7,
   "metadata": {},
   "outputs": [
    {
     "name": "stdout",
     "output_type": "stream",
     "text": [
      "Accuracy:  0.6295\n",
      "Loss:  0.08623899921774864\n"
     ]
    }
   ],
   "source": [
    "correct = 0\n",
    "total = 0\n",
    "total_loss = 0\n",
    "\n",
    "for batch in data_loader:\n",
    "    batch = {k: v.to(device) for k, v in batch.items()}\n",
    "    labels = batch['labels']\n",
    "    outputs = model(**batch)\n",
    "    loss = outputs.loss\n",
    "    logits = outputs.logits\n",
    "    \n",
    "    total_loss += loss.item()\n",
    "    total += labels.size(0)\n",
    "    correct += (torch.argmax(logits, -1) == labels).sum().item()\n",
    "    \n",
    "print(\"Accuracy: \", correct/total)\n",
    "print(\"Loss: \", total_loss/total)"
   ]
  },
  {
   "cell_type": "markdown",
   "metadata": {},
   "source": [
    "# Editing the Model"
   ]
  },
  {
   "cell_type": "code",
   "execution_count": 8,
   "metadata": {},
   "outputs": [
    {
     "name": "stderr",
     "output_type": "stream",
     "text": [
      "Some weights of RobertaForSequenceClassification were not initialized from the model checkpoint at roberta-base and are newly initialized: ['classifier.dense.weight', 'classifier.out_proj.bias', 'classifier.out_proj.weight', 'classifier.dense.bias']\n",
      "You should probably TRAIN this model on a down-stream task to be able to use it for predictions and inference.\n"
     ]
    }
   ],
   "source": [
    "model_to_edit = RobertaForSequenceClassification.from_pretrained(\"roberta-base\", num_labels=2)"
   ]
  },
  {
   "cell_type": "code",
   "execution_count": 9,
   "metadata": {},
   "outputs": [
    {
     "name": "stdout",
     "output_type": "stream",
     "text": [
      "roberta.embeddings.word_embeddings.weight torch.Size([50265, 768])\n",
      "roberta.embeddings.position_embeddings.weight torch.Size([514, 768])\n",
      "roberta.embeddings.token_type_embeddings.weight torch.Size([1, 768])\n",
      "roberta.embeddings.LayerNorm.weight torch.Size([768])\n",
      "roberta.embeddings.LayerNorm.bias torch.Size([768])\n",
      "roberta.encoder.layer.0.attention.self.query.weight torch.Size([768, 768])\n",
      "roberta.encoder.layer.0.attention.self.query.bias torch.Size([768])\n",
      "roberta.encoder.layer.0.attention.self.key.weight torch.Size([768, 768])\n",
      "roberta.encoder.layer.0.attention.self.key.bias torch.Size([768])\n",
      "roberta.encoder.layer.0.attention.self.value.weight torch.Size([768, 768])\n",
      "roberta.encoder.layer.0.attention.self.value.bias torch.Size([768])\n",
      "roberta.encoder.layer.0.attention.output.dense.weight torch.Size([768, 768])\n",
      "roberta.encoder.layer.0.attention.output.dense.bias torch.Size([768])\n",
      "roberta.encoder.layer.0.attention.output.LayerNorm.weight torch.Size([768])\n",
      "roberta.encoder.layer.0.attention.output.LayerNorm.bias torch.Size([768])\n",
      "roberta.encoder.layer.0.intermediate.dense.weight torch.Size([3072, 768])\n",
      "roberta.encoder.layer.0.intermediate.dense.bias torch.Size([3072])\n",
      "roberta.encoder.layer.0.output.dense.weight torch.Size([768, 3072])\n",
      "roberta.encoder.layer.0.output.dense.bias torch.Size([768])\n",
      "roberta.encoder.layer.0.output.LayerNorm.weight torch.Size([768])\n",
      "roberta.encoder.layer.0.output.LayerNorm.bias torch.Size([768])\n",
      "roberta.encoder.layer.1.attention.self.query.weight torch.Size([768, 768])\n",
      "roberta.encoder.layer.1.attention.self.query.bias torch.Size([768])\n",
      "roberta.encoder.layer.1.attention.self.key.weight torch.Size([768, 768])\n",
      "roberta.encoder.layer.1.attention.self.key.bias torch.Size([768])\n",
      "roberta.encoder.layer.1.attention.self.value.weight torch.Size([768, 768])\n",
      "roberta.encoder.layer.1.attention.self.value.bias torch.Size([768])\n",
      "roberta.encoder.layer.1.attention.output.dense.weight torch.Size([768, 768])\n",
      "roberta.encoder.layer.1.attention.output.dense.bias torch.Size([768])\n",
      "roberta.encoder.layer.1.attention.output.LayerNorm.weight torch.Size([768])\n",
      "roberta.encoder.layer.1.attention.output.LayerNorm.bias torch.Size([768])\n",
      "roberta.encoder.layer.1.intermediate.dense.weight torch.Size([3072, 768])\n",
      "roberta.encoder.layer.1.intermediate.dense.bias torch.Size([3072])\n",
      "roberta.encoder.layer.1.output.dense.weight torch.Size([768, 3072])\n",
      "roberta.encoder.layer.1.output.dense.bias torch.Size([768])\n",
      "roberta.encoder.layer.1.output.LayerNorm.weight torch.Size([768])\n",
      "roberta.encoder.layer.1.output.LayerNorm.bias torch.Size([768])\n",
      "roberta.encoder.layer.2.attention.self.query.weight torch.Size([768, 768])\n",
      "roberta.encoder.layer.2.attention.self.query.bias torch.Size([768])\n",
      "roberta.encoder.layer.2.attention.self.key.weight torch.Size([768, 768])\n",
      "roberta.encoder.layer.2.attention.self.key.bias torch.Size([768])\n",
      "roberta.encoder.layer.2.attention.self.value.weight torch.Size([768, 768])\n",
      "roberta.encoder.layer.2.attention.self.value.bias torch.Size([768])\n",
      "roberta.encoder.layer.2.attention.output.dense.weight torch.Size([768, 768])\n",
      "roberta.encoder.layer.2.attention.output.dense.bias torch.Size([768])\n",
      "roberta.encoder.layer.2.attention.output.LayerNorm.weight torch.Size([768])\n",
      "roberta.encoder.layer.2.attention.output.LayerNorm.bias torch.Size([768])\n",
      "roberta.encoder.layer.2.intermediate.dense.weight torch.Size([3072, 768])\n",
      "roberta.encoder.layer.2.intermediate.dense.bias torch.Size([3072])\n",
      "roberta.encoder.layer.2.output.dense.weight torch.Size([768, 3072])\n",
      "roberta.encoder.layer.2.output.dense.bias torch.Size([768])\n",
      "roberta.encoder.layer.2.output.LayerNorm.weight torch.Size([768])\n",
      "roberta.encoder.layer.2.output.LayerNorm.bias torch.Size([768])\n",
      "roberta.encoder.layer.3.attention.self.query.weight torch.Size([768, 768])\n",
      "roberta.encoder.layer.3.attention.self.query.bias torch.Size([768])\n",
      "roberta.encoder.layer.3.attention.self.key.weight torch.Size([768, 768])\n",
      "roberta.encoder.layer.3.attention.self.key.bias torch.Size([768])\n",
      "roberta.encoder.layer.3.attention.self.value.weight torch.Size([768, 768])\n",
      "roberta.encoder.layer.3.attention.self.value.bias torch.Size([768])\n",
      "roberta.encoder.layer.3.attention.output.dense.weight torch.Size([768, 768])\n",
      "roberta.encoder.layer.3.attention.output.dense.bias torch.Size([768])\n",
      "roberta.encoder.layer.3.attention.output.LayerNorm.weight torch.Size([768])\n",
      "roberta.encoder.layer.3.attention.output.LayerNorm.bias torch.Size([768])\n",
      "roberta.encoder.layer.3.intermediate.dense.weight torch.Size([3072, 768])\n",
      "roberta.encoder.layer.3.intermediate.dense.bias torch.Size([3072])\n",
      "roberta.encoder.layer.3.output.dense.weight torch.Size([768, 3072])\n",
      "roberta.encoder.layer.3.output.dense.bias torch.Size([768])\n",
      "roberta.encoder.layer.3.output.LayerNorm.weight torch.Size([768])\n",
      "roberta.encoder.layer.3.output.LayerNorm.bias torch.Size([768])\n",
      "roberta.encoder.layer.4.attention.self.query.weight torch.Size([768, 768])\n",
      "roberta.encoder.layer.4.attention.self.query.bias torch.Size([768])\n",
      "roberta.encoder.layer.4.attention.self.key.weight torch.Size([768, 768])\n",
      "roberta.encoder.layer.4.attention.self.key.bias torch.Size([768])\n",
      "roberta.encoder.layer.4.attention.self.value.weight torch.Size([768, 768])\n",
      "roberta.encoder.layer.4.attention.self.value.bias torch.Size([768])\n",
      "roberta.encoder.layer.4.attention.output.dense.weight torch.Size([768, 768])\n",
      "roberta.encoder.layer.4.attention.output.dense.bias torch.Size([768])\n",
      "roberta.encoder.layer.4.attention.output.LayerNorm.weight torch.Size([768])\n",
      "roberta.encoder.layer.4.attention.output.LayerNorm.bias torch.Size([768])\n",
      "roberta.encoder.layer.4.intermediate.dense.weight torch.Size([3072, 768])\n",
      "roberta.encoder.layer.4.intermediate.dense.bias torch.Size([3072])\n",
      "roberta.encoder.layer.4.output.dense.weight torch.Size([768, 3072])\n",
      "roberta.encoder.layer.4.output.dense.bias torch.Size([768])\n",
      "roberta.encoder.layer.4.output.LayerNorm.weight torch.Size([768])\n",
      "roberta.encoder.layer.4.output.LayerNorm.bias torch.Size([768])\n",
      "roberta.encoder.layer.5.attention.self.query.weight torch.Size([768, 768])\n",
      "roberta.encoder.layer.5.attention.self.query.bias torch.Size([768])\n",
      "roberta.encoder.layer.5.attention.self.key.weight torch.Size([768, 768])\n",
      "roberta.encoder.layer.5.attention.self.key.bias torch.Size([768])\n",
      "roberta.encoder.layer.5.attention.self.value.weight torch.Size([768, 768])\n",
      "roberta.encoder.layer.5.attention.self.value.bias torch.Size([768])\n",
      "roberta.encoder.layer.5.attention.output.dense.weight torch.Size([768, 768])\n",
      "roberta.encoder.layer.5.attention.output.dense.bias torch.Size([768])\n",
      "roberta.encoder.layer.5.attention.output.LayerNorm.weight torch.Size([768])\n",
      "roberta.encoder.layer.5.attention.output.LayerNorm.bias torch.Size([768])\n",
      "roberta.encoder.layer.5.intermediate.dense.weight torch.Size([3072, 768])\n",
      "roberta.encoder.layer.5.intermediate.dense.bias torch.Size([3072])\n",
      "roberta.encoder.layer.5.output.dense.weight torch.Size([768, 3072])\n",
      "roberta.encoder.layer.5.output.dense.bias torch.Size([768])\n",
      "roberta.encoder.layer.5.output.LayerNorm.weight torch.Size([768])\n",
      "roberta.encoder.layer.5.output.LayerNorm.bias torch.Size([768])\n",
      "roberta.encoder.layer.6.attention.self.query.weight torch.Size([768, 768])\n",
      "roberta.encoder.layer.6.attention.self.query.bias torch.Size([768])\n",
      "roberta.encoder.layer.6.attention.self.key.weight torch.Size([768, 768])\n",
      "roberta.encoder.layer.6.attention.self.key.bias torch.Size([768])\n",
      "roberta.encoder.layer.6.attention.self.value.weight torch.Size([768, 768])\n",
      "roberta.encoder.layer.6.attention.self.value.bias torch.Size([768])\n",
      "roberta.encoder.layer.6.attention.output.dense.weight torch.Size([768, 768])\n",
      "roberta.encoder.layer.6.attention.output.dense.bias torch.Size([768])\n",
      "roberta.encoder.layer.6.attention.output.LayerNorm.weight torch.Size([768])\n",
      "roberta.encoder.layer.6.attention.output.LayerNorm.bias torch.Size([768])\n",
      "roberta.encoder.layer.6.intermediate.dense.weight torch.Size([3072, 768])\n",
      "roberta.encoder.layer.6.intermediate.dense.bias torch.Size([3072])\n",
      "roberta.encoder.layer.6.output.dense.weight torch.Size([768, 3072])\n",
      "roberta.encoder.layer.6.output.dense.bias torch.Size([768])\n",
      "roberta.encoder.layer.6.output.LayerNorm.weight torch.Size([768])\n",
      "roberta.encoder.layer.6.output.LayerNorm.bias torch.Size([768])\n",
      "roberta.encoder.layer.7.attention.self.query.weight torch.Size([768, 768])\n",
      "roberta.encoder.layer.7.attention.self.query.bias torch.Size([768])\n",
      "roberta.encoder.layer.7.attention.self.key.weight torch.Size([768, 768])\n",
      "roberta.encoder.layer.7.attention.self.key.bias torch.Size([768])\n",
      "roberta.encoder.layer.7.attention.self.value.weight torch.Size([768, 768])\n",
      "roberta.encoder.layer.7.attention.self.value.bias torch.Size([768])\n",
      "roberta.encoder.layer.7.attention.output.dense.weight torch.Size([768, 768])\n",
      "roberta.encoder.layer.7.attention.output.dense.bias torch.Size([768])\n",
      "roberta.encoder.layer.7.attention.output.LayerNorm.weight torch.Size([768])\n",
      "roberta.encoder.layer.7.attention.output.LayerNorm.bias torch.Size([768])\n",
      "roberta.encoder.layer.7.intermediate.dense.weight torch.Size([3072, 768])\n",
      "roberta.encoder.layer.7.intermediate.dense.bias torch.Size([3072])\n",
      "roberta.encoder.layer.7.output.dense.weight torch.Size([768, 3072])\n",
      "roberta.encoder.layer.7.output.dense.bias torch.Size([768])\n",
      "roberta.encoder.layer.7.output.LayerNorm.weight torch.Size([768])\n",
      "roberta.encoder.layer.7.output.LayerNorm.bias torch.Size([768])\n",
      "roberta.encoder.layer.8.attention.self.query.weight torch.Size([768, 768])\n",
      "roberta.encoder.layer.8.attention.self.query.bias torch.Size([768])\n",
      "roberta.encoder.layer.8.attention.self.key.weight torch.Size([768, 768])\n",
      "roberta.encoder.layer.8.attention.self.key.bias torch.Size([768])\n",
      "roberta.encoder.layer.8.attention.self.value.weight torch.Size([768, 768])\n",
      "roberta.encoder.layer.8.attention.self.value.bias torch.Size([768])\n",
      "roberta.encoder.layer.8.attention.output.dense.weight torch.Size([768, 768])\n",
      "roberta.encoder.layer.8.attention.output.dense.bias torch.Size([768])\n",
      "roberta.encoder.layer.8.attention.output.LayerNorm.weight torch.Size([768])\n",
      "roberta.encoder.layer.8.attention.output.LayerNorm.bias torch.Size([768])\n",
      "roberta.encoder.layer.8.intermediate.dense.weight torch.Size([3072, 768])\n",
      "roberta.encoder.layer.8.intermediate.dense.bias torch.Size([3072])\n",
      "roberta.encoder.layer.8.output.dense.weight torch.Size([768, 3072])\n",
      "roberta.encoder.layer.8.output.dense.bias torch.Size([768])\n",
      "roberta.encoder.layer.8.output.LayerNorm.weight torch.Size([768])\n",
      "roberta.encoder.layer.8.output.LayerNorm.bias torch.Size([768])\n",
      "roberta.encoder.layer.9.attention.self.query.weight torch.Size([768, 768])\n",
      "roberta.encoder.layer.9.attention.self.query.bias torch.Size([768])\n",
      "roberta.encoder.layer.9.attention.self.key.weight torch.Size([768, 768])\n",
      "roberta.encoder.layer.9.attention.self.key.bias torch.Size([768])\n",
      "roberta.encoder.layer.9.attention.self.value.weight torch.Size([768, 768])\n",
      "roberta.encoder.layer.9.attention.self.value.bias torch.Size([768])\n",
      "roberta.encoder.layer.9.attention.output.dense.weight torch.Size([768, 768])\n",
      "roberta.encoder.layer.9.attention.output.dense.bias torch.Size([768])\n",
      "roberta.encoder.layer.9.attention.output.LayerNorm.weight torch.Size([768])\n",
      "roberta.encoder.layer.9.attention.output.LayerNorm.bias torch.Size([768])\n",
      "roberta.encoder.layer.9.intermediate.dense.weight torch.Size([3072, 768])\n",
      "roberta.encoder.layer.9.intermediate.dense.bias torch.Size([3072])\n",
      "roberta.encoder.layer.9.output.dense.weight torch.Size([768, 3072])\n",
      "roberta.encoder.layer.9.output.dense.bias torch.Size([768])\n",
      "roberta.encoder.layer.9.output.LayerNorm.weight torch.Size([768])\n",
      "roberta.encoder.layer.9.output.LayerNorm.bias torch.Size([768])\n",
      "roberta.encoder.layer.10.attention.self.query.weight torch.Size([768, 768])\n",
      "roberta.encoder.layer.10.attention.self.query.bias torch.Size([768])\n",
      "roberta.encoder.layer.10.attention.self.key.weight torch.Size([768, 768])\n",
      "roberta.encoder.layer.10.attention.self.key.bias torch.Size([768])\n",
      "roberta.encoder.layer.10.attention.self.value.weight torch.Size([768, 768])\n",
      "roberta.encoder.layer.10.attention.self.value.bias torch.Size([768])\n",
      "roberta.encoder.layer.10.attention.output.dense.weight torch.Size([768, 768])\n",
      "roberta.encoder.layer.10.attention.output.dense.bias torch.Size([768])\n",
      "roberta.encoder.layer.10.attention.output.LayerNorm.weight torch.Size([768])\n",
      "roberta.encoder.layer.10.attention.output.LayerNorm.bias torch.Size([768])\n",
      "roberta.encoder.layer.10.intermediate.dense.weight torch.Size([3072, 768])\n",
      "roberta.encoder.layer.10.intermediate.dense.bias torch.Size([3072])\n",
      "roberta.encoder.layer.10.output.dense.weight torch.Size([768, 3072])\n",
      "roberta.encoder.layer.10.output.dense.bias torch.Size([768])\n",
      "roberta.encoder.layer.10.output.LayerNorm.weight torch.Size([768])\n",
      "roberta.encoder.layer.10.output.LayerNorm.bias torch.Size([768])\n",
      "roberta.encoder.layer.11.attention.self.query.weight torch.Size([768, 768])\n",
      "roberta.encoder.layer.11.attention.self.query.bias torch.Size([768])\n",
      "roberta.encoder.layer.11.attention.self.key.weight torch.Size([768, 768])\n",
      "roberta.encoder.layer.11.attention.self.key.bias torch.Size([768])\n",
      "roberta.encoder.layer.11.attention.self.value.weight torch.Size([768, 768])\n",
      "roberta.encoder.layer.11.attention.self.value.bias torch.Size([768])\n",
      "roberta.encoder.layer.11.attention.output.dense.weight torch.Size([768, 768])\n",
      "roberta.encoder.layer.11.attention.output.dense.bias torch.Size([768])\n",
      "roberta.encoder.layer.11.attention.output.LayerNorm.weight torch.Size([768])\n",
      "roberta.encoder.layer.11.attention.output.LayerNorm.bias torch.Size([768])\n",
      "roberta.encoder.layer.11.intermediate.dense.weight torch.Size([3072, 768])\n",
      "roberta.encoder.layer.11.intermediate.dense.bias torch.Size([3072])\n",
      "roberta.encoder.layer.11.output.dense.weight torch.Size([768, 3072])\n",
      "roberta.encoder.layer.11.output.dense.bias torch.Size([768])\n",
      "roberta.encoder.layer.11.output.LayerNorm.weight torch.Size([768])\n",
      "roberta.encoder.layer.11.output.LayerNorm.bias torch.Size([768])\n",
      "classifier.dense.weight torch.Size([768, 768])\n",
      "classifier.dense.bias torch.Size([768])\n",
      "classifier.out_proj.weight torch.Size([2, 768])\n",
      "classifier.out_proj.bias torch.Size([2])\n"
     ]
    }
   ],
   "source": [
    "# print layers of the model and size of the layers\n",
    "for name, param in model_to_edit.named_parameters():\n",
    "    print(name, param.size())\n"
   ]
  },
  {
   "cell_type": "code",
   "execution_count": null,
   "metadata": {},
   "outputs": [],
   "source": []
  },
  {
   "cell_type": "markdown",
   "metadata": {},
   "source": [
    "## Stacking 1"
   ]
  },
  {
   "cell_type": "code",
   "execution_count": 10,
   "metadata": {},
   "outputs": [],
   "source": [
    "selected_layers = [7, 8, 9, 10]\n",
    "tensor = []\n",
    "for layer in selected_layers:\n",
    "    query_weights = model_to_edit.roberta.encoder.layer[layer].attention.self.query.weight.detach().cpu().numpy()\n",
    "    key_weights = model_to_edit.roberta.encoder.layer[layer].attention.self.key.weight.detach().cpu().numpy()\n",
    "    value_weights = model_to_edit.roberta.encoder.layer[layer].attention.self.value.weight.detach().cpu().numpy()\n",
    "    output_weights = model_to_edit.roberta.encoder.layer[layer].attention.output.dense.weight.detach().cpu().numpy()\n",
    "    \n",
    "    # Stacking the weights for each selected layer\n",
    "    stacked_weights = np.stack([query_weights, key_weights, value_weights, output_weights])\n",
    "    tensor.append(stacked_weights)\n",
    "    \n",
    "stacked_tensor = np.stack(tensor)\n",
    "    "
   ]
  },
  {
   "cell_type": "code",
   "execution_count": 11,
   "metadata": {},
   "outputs": [
    {
     "data": {
      "text/plain": [
       "(4, 4, 768, 768)"
      ]
     },
     "execution_count": 11,
     "metadata": {},
     "output_type": "execute_result"
    }
   ],
   "source": [
    "stacked_tensor.shape"
   ]
  },
  {
   "cell_type": "code",
   "execution_count": 12,
   "metadata": {},
   "outputs": [],
   "source": [
    "\n",
    "def plot_reconstruction_error(tensor, max_desired_rank):\n",
    "    rank_range = range(1, max_desired_rank + 1)\n",
    "    reconstruction_errors = []\n",
    "    for rank in rank_range:\n",
    "        print(rank)\n",
    "        factors = tl.decomposition.parafac(tensor, rank=rank)\n",
    "        reconstructed_tensor = tl.kruskal_to_tensor(factors)\n",
    "        reconstruction_error = tl.norm(tensor - reconstructed_tensor)\n",
    "        reconstruction_errors.append(reconstruction_error)\n",
    "    plt.plot(rank_range, reconstruction_errors)\n",
    "    plt.xlabel('Rank')\n",
    "    plt.ylabel('Reconstruction Error')\n",
    "    plt.show()\n",
    "\n",
    "\n",
    "    "
   ]
  },
  {
   "cell_type": "code",
   "execution_count": 13,
   "metadata": {},
   "outputs": [
    {
     "name": "stdout",
     "output_type": "stream",
     "text": [
      "1\n"
     ]
    },
    {
     "name": "stdout",
     "output_type": "stream",
     "text": [
      "2\n",
      "3\n",
      "4\n"
     ]
    },
    {
     "data": {
      "image/png": "[encoded data removed]",
      "text/plain": [
       "<Figure size 640x480 with 1 Axes>"
      ]
     },
     "metadata": {},
     "output_type": "display_data"
    }
   ],
   "source": [
    "plot_reconstruction_error(stacked_tensor, 4)"
   ]
  },
  {
   "cell_type": "markdown",
   "metadata": {},
   "source": []
  },
  {
   "cell_type": "code",
   "execution_count": 14,
   "metadata": {},
   "outputs": [
    {
     "name": "stdout",
     "output_type": "stream",
     "text": [
      "169.92155\n"
     ]
    }
   ],
   "source": [
    "# Decomposing the tensor\n",
    "factors = tl.decomposition.parafac(stacked_tensor, rank=2)\n",
    "reconstructed_tensor = tl.kruskal_to_tensor(factors)\n",
    "reconstruction_error = tl.norm(stacked_tensor - reconstructed_tensor)\n",
    "print(reconstruction_error)\n"
   ]
  },
  {
   "cell_type": "code",
   "execution_count": 15,
   "metadata": {},
   "outputs": [
    {
     "data": {
      "text/plain": [
       "(4, 4, 768, 768)"
      ]
     },
     "execution_count": 15,
     "metadata": {},
     "output_type": "execute_result"
    }
   ],
   "source": [
    "reconstructed_tensor.shape"
   ]
  },
  {
   "cell_type": "code",
   "execution_count": 16,
   "metadata": {},
   "outputs": [
    {
     "data": {
      "text/plain": [
       "RobertaForSequenceClassification(\n",
       "  (roberta): RobertaModel(\n",
       "    (embeddings): RobertaEmbeddings(\n",
       "      (word_embeddings): Embedding(50265, 768, padding_idx=1)\n",
       "      (position_embeddings): Embedding(514, 768, padding_idx=1)\n",
       "      (token_type_embeddings): Embedding(1, 768)\n",
       "      (LayerNorm): LayerNorm((768,), eps=1e-05, elementwise_affine=True)\n",
       "      (dropout): Dropout(p=0.1, inplace=False)\n",
       "    )\n",
       "    (encoder): RobertaEncoder(\n",
       "      (layer): ModuleList(\n",
       "        (0-11): 12 x RobertaLayer(\n",
       "          (attention): RobertaAttention(\n",
       "            (self): RobertaSelfAttention(\n",
       "              (query): Linear(in_features=768, out_features=768, bias=True)\n",
       "              (key): Linear(in_features=768, out_features=768, bias=True)\n",
       "              (value): Linear(in_features=768, out_features=768, bias=True)\n",
       "              (dropout): Dropout(p=0.1, inplace=False)\n",
       "            )\n",
       "            (output): RobertaSelfOutput(\n",
       "              (dense): Linear(in_features=768, out_features=768, bias=True)\n",
       "              (LayerNorm): LayerNorm((768,), eps=1e-05, elementwise_affine=True)\n",
       "              (dropout): Dropout(p=0.1, inplace=False)\n",
       "            )\n",
       "          )\n",
       "          (intermediate): RobertaIntermediate(\n",
       "            (dense): Linear(in_features=768, out_features=3072, bias=True)\n",
       "            (intermediate_act_fn): GELUActivation()\n",
       "          )\n",
       "          (output): RobertaOutput(\n",
       "            (dense): Linear(in_features=3072, out_features=768, bias=True)\n",
       "            (LayerNorm): LayerNorm((768,), eps=1e-05, elementwise_affine=True)\n",
       "            (dropout): Dropout(p=0.1, inplace=False)\n",
       "          )\n",
       "        )\n",
       "      )\n",
       "    )\n",
       "  )\n",
       "  (classifier): RobertaClassificationHead(\n",
       "    (dense): Linear(in_features=768, out_features=768, bias=True)\n",
       "    (dropout): Dropout(p=0.1, inplace=False)\n",
       "    (out_proj): Linear(in_features=768, out_features=2, bias=True)\n",
       "  )\n",
       ")"
      ]
     },
     "execution_count": 16,
     "metadata": {},
     "output_type": "execute_result"
    }
   ],
   "source": [
    "# replace the weights of the selected layers with the reconstructed weights\n",
    "\n",
    "for i, layer in enumerate(selected_layers):\n",
    "    layer_weights = reconstructed_tensor[i]\n",
    "    \n",
    "    reconstructed_query_weights = layer_weights[0]\n",
    "    reconstructed_key_weights = layer_weights[1]\n",
    "    reconstructed_value_weights = layer_weights[2]\n",
    "    reconstructed_output_weights = layer_weights[3]\n",
    "    \n",
    "    model_to_edit.roberta.encoder.layer[layer].attention.self.query.weight = torch.nn.Parameter(torch.tensor(reconstructed_query_weights))\n",
    "    model_to_edit.roberta.encoder.layer[layer].attention.self.key.weight = torch.nn.Parameter(torch.tensor(reconstructed_key_weights))\n",
    "    model_to_edit.roberta.encoder.layer[layer].attention.self.value.weight = torch.nn.Parameter(torch.tensor(reconstructed_value_weights))\n",
    "    model_to_edit.roberta.encoder.layer[layer].attention.output.dense.weight = torch.nn.Parameter(torch.tensor(reconstructed_output_weights))\n",
    "\n",
    "model_to_edit.to(device)"
   ]
  },
  {
   "cell_type": "code",
   "execution_count": 17,
   "metadata": {},
   "outputs": [
    {
     "name": "stdout",
     "output_type": "stream",
     "text": [
      "Accuracy:  0.5065\n",
      "Loss:  0.08651590424776077\n"
     ]
    }
   ],
   "source": [
    "for batch in data_loader:\n",
    "    batch = {k: v.to(device) for k, v in batch.items()}\n",
    "    labels = batch['labels']\n",
    "    outputs = model_to_edit(**batch)\n",
    "    loss = outputs.loss\n",
    "    logits = outputs.logits\n",
    "    \n",
    "    total_loss += loss.item()\n",
    "    total += labels.size(0)\n",
    "    correct += (torch.argmax(logits, -1) == labels).sum().item()\n",
    "    \n",
    "print(\"Accuracy: \", correct/total)\n",
    "print(\"Loss: \", total_loss/total)\n",
    "\n"
   ]
  },
  {
   "cell_type": "markdown",
   "metadata": {},
   "source": [
    "# Stacking 2"
   ]
  },
  {
   "cell_type": "code",
   "execution_count": 18,
   "metadata": {},
   "outputs": [],
   "source": [
    "selected_layers = [7, 8, 9, 10]\n",
    "tensor = []\n",
    "for layer in selected_layers:\n",
    "    query_weights = model_to_edit.roberta.encoder.layer[layer].attention.self.query.weight.detach().cpu().numpy()\n",
    "    key_weights = model_to_edit.roberta.encoder.layer[layer].attention.self.key.weight.detach().cpu().numpy()\n",
    "    value_weights = model_to_edit.roberta.encoder.layer[layer].attention.self.value.weight.detach().cpu().numpy()\n",
    "    output_weights = model_to_edit.roberta.encoder.layer[layer].attention.output.dense.weight.detach().cpu().numpy()\n",
    "    \n",
    "    layer_block = np.array([query_weights, key_weights, value_weights, output_weights])\n",
    "    tensor.append(layer_block)\n",
    "    \n",
    "stacked_tensor = np.vstack(tensor)"
   ]
  },
  {
   "cell_type": "code",
   "execution_count": 19,
   "metadata": {},
   "outputs": [
    {
     "data": {
      "text/plain": [
       "(16, 768, 768)"
      ]
     },
     "execution_count": 19,
     "metadata": {},
     "output_type": "execute_result"
    }
   ],
   "source": [
    "stacked_tensor.shape"
   ]
  },
  {
   "cell_type": "code",
   "execution_count": 20,
   "metadata": {},
   "outputs": [
    {
     "name": "stdout",
     "output_type": "stream",
     "text": [
      "1\n",
      "2\n",
      "3\n",
      "4\n"
     ]
    },
    {
     "data": {
      "image/png": "[encoded data removed]",
      "text/plain": [
       "<Figure size 640x480 with 1 Axes>"
      ]
     },
     "metadata": {},
     "output_type": "display_data"
    }
   ],
   "source": [
    "plot_reconstruction_error(stacked_tensor, 4)"
   ]
  },
  {
   "cell_type": "code",
   "execution_count": 21,
   "metadata": {},
   "outputs": [
    {
     "name": "stdout",
     "output_type": "stream",
     "text": [
      "5.86198e-06\n"
     ]
    }
   ],
   "source": [
    "decomposed = tl.decomposition.parafac(stacked_tensor, rank=2)\n",
    "reconstructed_tensor = tl.kruskal_to_tensor(decomposed)\n",
    "reconstruction_error = tl.norm(stacked_tensor - reconstructed_tensor)\n",
    "print(reconstruction_error)"
   ]
  },
  {
   "cell_type": "code",
   "execution_count": 22,
   "metadata": {},
   "outputs": [
    {
     "data": {
      "text/plain": [
       "(4, 4, 768, 768)"
      ]
     },
     "execution_count": 22,
     "metadata": {},
     "output_type": "execute_result"
    }
   ],
   "source": [
    "unstacked_reconstructed_tensor = stacked_tensor.reshape(-1, 4, 768, 768)\n",
    "unstacked_reconstructed_tensor.shape\n",
    "\n"
   ]
  },
  {
   "cell_type": "code",
   "execution_count": 23,
   "metadata": {},
   "outputs": [
    {
     "data": {
      "text/plain": [
       "RobertaForSequenceClassification(\n",
       "  (roberta): RobertaModel(\n",
       "    (embeddings): RobertaEmbeddings(\n",
       "      (word_embeddings): Embedding(50265, 768, padding_idx=1)\n",
       "      (position_embeddings): Embedding(514, 768, padding_idx=1)\n",
       "      (token_type_embeddings): Embedding(1, 768)\n",
       "      (LayerNorm): LayerNorm((768,), eps=1e-05, elementwise_affine=True)\n",
       "      (dropout): Dropout(p=0.1, inplace=False)\n",
       "    )\n",
       "    (encoder): RobertaEncoder(\n",
       "      (layer): ModuleList(\n",
       "        (0-11): 12 x RobertaLayer(\n",
       "          (attention): RobertaAttention(\n",
       "            (self): RobertaSelfAttention(\n",
       "              (query): Linear(in_features=768, out_features=768, bias=True)\n",
       "              (key): Linear(in_features=768, out_features=768, bias=True)\n",
       "              (value): Linear(in_features=768, out_features=768, bias=True)\n",
       "              (dropout): Dropout(p=0.1, inplace=False)\n",
       "            )\n",
       "            (output): RobertaSelfOutput(\n",
       "              (dense): Linear(in_features=768, out_features=768, bias=True)\n",
       "              (LayerNorm): LayerNorm((768,), eps=1e-05, elementwise_affine=True)\n",
       "              (dropout): Dropout(p=0.1, inplace=False)\n",
       "            )\n",
       "          )\n",
       "          (intermediate): RobertaIntermediate(\n",
       "            (dense): Linear(in_features=768, out_features=3072, bias=True)\n",
       "            (intermediate_act_fn): GELUActivation()\n",
       "          )\n",
       "          (output): RobertaOutput(\n",
       "            (dense): Linear(in_features=3072, out_features=768, bias=True)\n",
       "            (LayerNorm): LayerNorm((768,), eps=1e-05, elementwise_affine=True)\n",
       "            (dropout): Dropout(p=0.1, inplace=False)\n",
       "          )\n",
       "        )\n",
       "      )\n",
       "    )\n",
       "  )\n",
       "  (classifier): RobertaClassificationHead(\n",
       "    (dense): Linear(in_features=768, out_features=768, bias=True)\n",
       "    (dropout): Dropout(p=0.1, inplace=False)\n",
       "    (out_proj): Linear(in_features=768, out_features=2, bias=True)\n",
       "  )\n",
       ")"
      ]
     },
     "execution_count": 23,
     "metadata": {},
     "output_type": "execute_result"
    }
   ],
   "source": [
    "for i, layer in enumerate(selected_layers):\n",
    "    layer_weights = unstacked_reconstructed_tensor[i]\n",
    "    \n",
    "    reconstructed_query_weights = layer_weights[0]\n",
    "    reconstructed_key_weights = layer_weights[1]\n",
    "    reconstructed_value_weights = layer_weights[2]\n",
    "    reconstructed_output_weights = layer_weights[3]\n",
    "    \n",
    "    model_to_edit.roberta.encoder.layer[layer].attention.self.query.weight = torch.nn.Parameter(torch.tensor(reconstructed_query_weights))\n",
    "    model_to_edit.roberta.encoder.layer[layer].attention.self.key.weight = torch.nn.Parameter(torch.tensor(reconstructed_key_weights))\n",
    "    model_to_edit.roberta.encoder.layer[layer].attention.self.value.weight = torch.nn.Parameter(torch.tensor(reconstructed_value_weights))\n",
    "    model_to_edit.roberta.encoder.layer[layer].attention.output.dense.weight = torch.nn.Parameter(torch.tensor(reconstructed_output_weights))\n",
    "    \n",
    "model_to_edit.to(device)"
   ]
  },
  {
   "cell_type": "code",
   "execution_count": 24,
   "metadata": {},
   "outputs": [
    {
     "name": "stdout",
     "output_type": "stream",
     "text": [
      "Accuracy:  0.4655\n",
      "Loss:  0.08660820592443148\n"
     ]
    }
   ],
   "source": [
    "for batch in data_loader:\n",
    "    batch = {k: v.to(device) for k, v in batch.items()}\n",
    "    labels = batch['labels']\n",
    "    outputs = model_to_edit(**batch)\n",
    "    loss = outputs.loss\n",
    "    logits = outputs.logits\n",
    "    \n",
    "    total_loss += loss.item()\n",
    "    total += labels.size(0)\n",
    "    correct += (torch.argmax(logits, -1) == labels).sum().item()\n",
    "    \n",
    "print(\"Accuracy: \", correct/total)\n",
    "\n",
    "print(\"Loss: \", total_loss/total)\n"
   ]
  },
  {
   "cell_type": "code",
   "execution_count": null,
   "metadata": {},
   "outputs": [],
   "source": []
  }
 ],
 "metadata": {
  "kernelspec": {
   "display_name": "Research",
   "language": "python",
   "name": "python3"
  },
  "language_info": {
   "codemirror_mode": {
    "name": "ipython",
    "version": 3
   },
   "file_extension": ".py",
   "mimetype": "text/x-python",
   "name": "python",
   "nbconvert_exporter": "python",
   "pygments_lexer": "ipython3",
   "version": "3.1.0"
  }
 },
 "nbformat": 4,
 "nbformat_minor": 2
}
