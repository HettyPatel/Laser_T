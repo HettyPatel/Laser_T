{
 "cells": [
  {
   "cell_type": "markdown",
   "metadata": {},
   "source": [
    "# Roberta Tests for LLM Project"
   ]
  },
  {
   "cell_type": "code",
   "execution_count": 2,
   "metadata": {},
   "outputs": [
    {
     "name": "stderr",
     "output_type": "stream",
     "text": [
      "/home/yluo147/anaconda3/envs/laser/lib/python3.11/site-packages/tqdm/auto.py:21: TqdmWarning: IProgress not found. Please update jupyter and ipywidgets. See https://ipywidgets.readthedocs.io/en/stable/user_install.html\n",
      "  from .autonotebook import tqdm as notebook_tqdm\n"
     ]
    }
   ],
   "source": [
    "from transformers import RobertaTokenizer, RobertaForSequenceClassification\n",
    "from datasets import load_dataset\n",
    "import torch\n",
    "import numpy as np\n",
    "import tensorly as tl\n",
    "import matplotlib.pyplot as plt"
   ]
  },
  {
   "cell_type": "code",
   "execution_count": 3,
   "metadata": {},
   "outputs": [],
   "source": [
    "# Loading the BigBench-epistemic Rasoning dataset\n",
    "raw_dataset = load_dataset(\"tasksource/bigbench\", \"epistemic_reasoning\")\n",
    "choices = [\"entailment\", \"non-entailment\"]\n",
    "dataset = [] \n",
    "for split_ in [\"validation\", \"train\"]:\n",
    "    for dp in raw_dataset[split_]:\n",
    "        targets = dp[\"targets\"]\n",
    "        assert len(targets) == 1\n",
    "        assert targets[0] in choices\n",
    "        dataset.append((dp[\"inputs\"], targets[0]))"
   ]
  },
  {
   "cell_type": "code",
   "execution_count": 4,
   "metadata": {},
   "outputs": [
    {
     "data": {
      "text/plain": [
       "(\"Identify the relation between the following premises and hypotheses, choosing from the options 'entailment' or 'non-entailment'.\\n\\nPremise: Michael suspects that Richard recognizes that one woman with jeans, gray shirt and sandals; with girl in all pink watching a white ball float in midair. Hypothesis: Michael suspects that one woman with jeans, gray shirt and sandals; with girl in all pink watching a white ball float in midair.\\nRelation:\",\n",
       " 'entailment')"
      ]
     },
     "execution_count": 4,
     "metadata": {},
     "output_type": "execute_result"
    }
   ],
   "source": [
    "dataset[1]"
   ]
  },
  {
   "cell_type": "code",
   "execution_count": 5,
   "metadata": {},
   "outputs": [
    {
     "name": "stderr",
     "output_type": "stream",
     "text": [
      "Some weights of RobertaForSequenceClassification were not initialized from the model checkpoint at roberta-base and are newly initialized: ['classifier.dense.bias', 'classifier.dense.weight', 'classifier.out_proj.bias', 'classifier.out_proj.weight']\n",
      "You should probably TRAIN this model on a down-stream task to be able to use it for predictions and inference.\n"
     ]
    },
    {
     "data": {
      "text/plain": [
       "RobertaForSequenceClassification(\n",
       "  (roberta): RobertaModel(\n",
       "    (embeddings): RobertaEmbeddings(\n",
       "      (word_embeddings): Embedding(50265, 768, padding_idx=1)\n",
       "      (position_embeddings): Embedding(514, 768, padding_idx=1)\n",
       "      (token_type_embeddings): Embedding(1, 768)\n",
       "      (LayerNorm): LayerNorm((768,), eps=1e-05, elementwise_affine=True)\n",
       "      (dropout): Dropout(p=0.1, inplace=False)\n",
       "    )\n",
       "    (encoder): RobertaEncoder(\n",
       "      (layer): ModuleList(\n",
       "        (0-11): 12 x RobertaLayer(\n",
       "          (attention): RobertaAttention(\n",
       "            (self): RobertaSelfAttention(\n",
       "              (query): Linear(in_features=768, out_features=768, bias=True)\n",
       "              (key): Linear(in_features=768, out_features=768, bias=True)\n",
       "              (value): Linear(in_features=768, out_features=768, bias=True)\n",
       "              (dropout): Dropout(p=0.1, inplace=False)\n",
       "            )\n",
       "            (output): RobertaSelfOutput(\n",
       "              (dense): Linear(in_features=768, out_features=768, bias=True)\n",
       "              (LayerNorm): LayerNorm((768,), eps=1e-05, elementwise_affine=True)\n",
       "              (dropout): Dropout(p=0.1, inplace=False)\n",
       "            )\n",
       "          )\n",
       "          (intermediate): RobertaIntermediate(\n",
       "            (dense): Linear(in_features=768, out_features=3072, bias=True)\n",
       "            (intermediate_act_fn): GELUActivation()\n",
       "          )\n",
       "          (output): RobertaOutput(\n",
       "            (dense): Linear(in_features=3072, out_features=768, bias=True)\n",
       "            (LayerNorm): LayerNorm((768,), eps=1e-05, elementwise_affine=True)\n",
       "            (dropout): Dropout(p=0.1, inplace=False)\n",
       "          )\n",
       "        )\n",
       "      )\n",
       "    )\n",
       "  )\n",
       "  (classifier): RobertaClassificationHead(\n",
       "    (dense): Linear(in_features=768, out_features=768, bias=True)\n",
       "    (dropout): Dropout(p=0.1, inplace=False)\n",
       "    (out_proj): Linear(in_features=768, out_features=2, bias=True)\n",
       "  )\n",
       ")"
      ]
     },
     "execution_count": 5,
     "metadata": {},
     "output_type": "execute_result"
    }
   ],
   "source": [
    "tokenizer = RobertaTokenizer.from_pretrained(\"roberta-base\")\n",
    "model = RobertaForSequenceClassification.from_pretrained(\"roberta-base\", num_labels=2)\n",
    "\n",
    "device = torch.device(\"cuda\") if torch.cuda.is_available() else torch.device(\"cpu\")\n",
    "model.to(device)"
   ]
  },
  {
   "cell_type": "code",
   "execution_count": 6,
   "metadata": {},
   "outputs": [],
   "source": [
    "tokenized_data = tokenizer([item[0] for item in dataset], padding=True, truncation=True, return_tensors='pt')\n",
    "labels = torch.tensor([1 if item[1] == 'entailment' else 0 for item in dataset])\n"
   ]
  },
  {
   "cell_type": "code",
   "execution_count": 7,
   "metadata": {},
   "outputs": [],
   "source": [
    "# DataLoader \n",
    "from torch.utils.data import DataLoader\n",
    "\n",
    "class Dataset(torch.utils.data.Dataset):\n",
    "    def __init__(self, encodings, labels):\n",
    "        self.encodings = encodings\n",
    "        self.labels = labels\n",
    "\n",
    "    def __getitem__(self, idx):\n",
    "        item = {key: val[idx] for key, val in self.encodings.items()}\n",
    "        item['labels'] = self.labels[idx]\n",
    "        return item\n",
    "\n",
    "    def __len__(self):\n",
    "        return len(self.labels)\n",
    "    \n",
    "data_loader = DataLoader(Dataset(tokenized_data, labels), batch_size=8)"
   ]
  },
  {
   "cell_type": "code",
   "execution_count": 8,
   "metadata": {},
   "outputs": [
    {
     "name": "stdout",
     "output_type": "stream",
     "text": [
      "Accuracy:  0.3705\n",
      "Loss:  0.09150325620174408\n"
     ]
    }
   ],
   "source": [
    "correct = 0\n",
    "total = 0\n",
    "total_loss = 0\n",
    "\n",
    "for batch in data_loader:\n",
    "    batch = {k: v.to(device) for k, v in batch.items()}\n",
    "    labels = batch['labels']\n",
    "    outputs = model(**batch)\n",
    "    loss = outputs.loss\n",
    "    logits = outputs.logits\n",
    "    \n",
    "    total_loss += loss.item()\n",
    "    total += labels.size(0)\n",
    "    correct += (torch.argmax(logits, -1) == labels).sum().item()\n",
    "    \n",
    "print(\"Accuracy: \", correct/total)\n",
    "print(\"Loss: \", total_loss/total)"
   ]
  },
  {
   "cell_type": "markdown",
   "metadata": {},
   "source": [
    "# Editing the Model"
   ]
  },
  {
   "cell_type": "code",
   "execution_count": 9,
   "metadata": {},
   "outputs": [
    {
     "name": "stderr",
     "output_type": "stream",
     "text": [
      "Some weights of RobertaForSequenceClassification were not initialized from the model checkpoint at roberta-base and are newly initialized: ['classifier.dense.bias', 'classifier.dense.weight', 'classifier.out_proj.bias', 'classifier.out_proj.weight']\n",
      "You should probably TRAIN this model on a down-stream task to be able to use it for predictions and inference.\n"
     ]
    }
   ],
   "source": [
    "model_to_edit = RobertaForSequenceClassification.from_pretrained(\"roberta-base\", num_labels=2)"
   ]
  },
  {
   "cell_type": "code",
   "execution_count": 10,
   "metadata": {},
   "outputs": [
    {
     "name": "stdout",
     "output_type": "stream",
     "text": [
      "roberta.embeddings.word_embeddings.weight torch.Size([50265, 768])\n",
      "roberta.embeddings.position_embeddings.weight torch.Size([514, 768])\n",
      "roberta.embeddings.token_type_embeddings.weight torch.Size([1, 768])\n",
      "roberta.embeddings.LayerNorm.weight torch.Size([768])\n",
      "roberta.embeddings.LayerNorm.bias torch.Size([768])\n",
      "roberta.encoder.layer.0.attention.self.query.weight torch.Size([768, 768])\n",
      "roberta.encoder.layer.0.attention.self.query.bias torch.Size([768])\n",
      "roberta.encoder.layer.0.attention.self.key.weight torch.Size([768, 768])\n",
      "roberta.encoder.layer.0.attention.self.key.bias torch.Size([768])\n",
      "roberta.encoder.layer.0.attention.self.value.weight torch.Size([768, 768])\n",
      "roberta.encoder.layer.0.attention.self.value.bias torch.Size([768])\n",
      "roberta.encoder.layer.0.attention.output.dense.weight torch.Size([768, 768])\n",
      "roberta.encoder.layer.0.attention.output.dense.bias torch.Size([768])\n",
      "roberta.encoder.layer.0.attention.output.LayerNorm.weight torch.Size([768])\n",
      "roberta.encoder.layer.0.attention.output.LayerNorm.bias torch.Size([768])\n",
      "roberta.encoder.layer.0.intermediate.dense.weight torch.Size([3072, 768])\n",
      "roberta.encoder.layer.0.intermediate.dense.bias torch.Size([3072])\n",
      "roberta.encoder.layer.0.output.dense.weight torch.Size([768, 3072])\n",
      "roberta.encoder.layer.0.output.dense.bias torch.Size([768])\n",
      "roberta.encoder.layer.0.output.LayerNorm.weight torch.Size([768])\n",
      "roberta.encoder.layer.0.output.LayerNorm.bias torch.Size([768])\n",
      "roberta.encoder.layer.1.attention.self.query.weight torch.Size([768, 768])\n",
      "roberta.encoder.layer.1.attention.self.query.bias torch.Size([768])\n",
      "roberta.encoder.layer.1.attention.self.key.weight torch.Size([768, 768])\n",
      "roberta.encoder.layer.1.attention.self.key.bias torch.Size([768])\n",
      "roberta.encoder.layer.1.attention.self.value.weight torch.Size([768, 768])\n",
      "roberta.encoder.layer.1.attention.self.value.bias torch.Size([768])\n",
      "roberta.encoder.layer.1.attention.output.dense.weight torch.Size([768, 768])\n",
      "roberta.encoder.layer.1.attention.output.dense.bias torch.Size([768])\n",
      "roberta.encoder.layer.1.attention.output.LayerNorm.weight torch.Size([768])\n",
      "roberta.encoder.layer.1.attention.output.LayerNorm.bias torch.Size([768])\n",
      "roberta.encoder.layer.1.intermediate.dense.weight torch.Size([3072, 768])\n",
      "roberta.encoder.layer.1.intermediate.dense.bias torch.Size([3072])\n",
      "roberta.encoder.layer.1.output.dense.weight torch.Size([768, 3072])\n",
      "roberta.encoder.layer.1.output.dense.bias torch.Size([768])\n",
      "roberta.encoder.layer.1.output.LayerNorm.weight torch.Size([768])\n",
      "roberta.encoder.layer.1.output.LayerNorm.bias torch.Size([768])\n",
      "roberta.encoder.layer.2.attention.self.query.weight torch.Size([768, 768])\n",
      "roberta.encoder.layer.2.attention.self.query.bias torch.Size([768])\n",
      "roberta.encoder.layer.2.attention.self.key.weight torch.Size([768, 768])\n",
      "roberta.encoder.layer.2.attention.self.key.bias torch.Size([768])\n",
      "roberta.encoder.layer.2.attention.self.value.weight torch.Size([768, 768])\n",
      "roberta.encoder.layer.2.attention.self.value.bias torch.Size([768])\n",
      "roberta.encoder.layer.2.attention.output.dense.weight torch.Size([768, 768])\n",
      "roberta.encoder.layer.2.attention.output.dense.bias torch.Size([768])\n",
      "roberta.encoder.layer.2.attention.output.LayerNorm.weight torch.Size([768])\n",
      "roberta.encoder.layer.2.attention.output.LayerNorm.bias torch.Size([768])\n",
      "roberta.encoder.layer.2.intermediate.dense.weight torch.Size([3072, 768])\n",
      "roberta.encoder.layer.2.intermediate.dense.bias torch.Size([3072])\n",
      "roberta.encoder.layer.2.output.dense.weight torch.Size([768, 3072])\n",
      "roberta.encoder.layer.2.output.dense.bias torch.Size([768])\n",
      "roberta.encoder.layer.2.output.LayerNorm.weight torch.Size([768])\n",
      "roberta.encoder.layer.2.output.LayerNorm.bias torch.Size([768])\n",
      "roberta.encoder.layer.3.attention.self.query.weight torch.Size([768, 768])\n",
      "roberta.encoder.layer.3.attention.self.query.bias torch.Size([768])\n",
      "roberta.encoder.layer.3.attention.self.key.weight torch.Size([768, 768])\n",
      "roberta.encoder.layer.3.attention.self.key.bias torch.Size([768])\n",
      "roberta.encoder.layer.3.attention.self.value.weight torch.Size([768, 768])\n",
      "roberta.encoder.layer.3.attention.self.value.bias torch.Size([768])\n",
      "roberta.encoder.layer.3.attention.output.dense.weight torch.Size([768, 768])\n",
      "roberta.encoder.layer.3.attention.output.dense.bias torch.Size([768])\n",
      "roberta.encoder.layer.3.attention.output.LayerNorm.weight torch.Size([768])\n",
      "roberta.encoder.layer.3.attention.output.LayerNorm.bias torch.Size([768])\n",
      "roberta.encoder.layer.3.intermediate.dense.weight torch.Size([3072, 768])\n",
      "roberta.encoder.layer.3.intermediate.dense.bias torch.Size([3072])\n",
      "roberta.encoder.layer.3.output.dense.weight torch.Size([768, 3072])\n",
      "roberta.encoder.layer.3.output.dense.bias torch.Size([768])\n",
      "roberta.encoder.layer.3.output.LayerNorm.weight torch.Size([768])\n",
      "roberta.encoder.layer.3.output.LayerNorm.bias torch.Size([768])\n",
      "roberta.encoder.layer.4.attention.self.query.weight torch.Size([768, 768])\n",
      "roberta.encoder.layer.4.attention.self.query.bias torch.Size([768])\n",
      "roberta.encoder.layer.4.attention.self.key.weight torch.Size([768, 768])\n",
      "roberta.encoder.layer.4.attention.self.key.bias torch.Size([768])\n",
      "roberta.encoder.layer.4.attention.self.value.weight torch.Size([768, 768])\n",
      "roberta.encoder.layer.4.attention.self.value.bias torch.Size([768])\n",
      "roberta.encoder.layer.4.attention.output.dense.weight torch.Size([768, 768])\n",
      "roberta.encoder.layer.4.attention.output.dense.bias torch.Size([768])\n",
      "roberta.encoder.layer.4.attention.output.LayerNorm.weight torch.Size([768])\n",
      "roberta.encoder.layer.4.attention.output.LayerNorm.bias torch.Size([768])\n",
      "roberta.encoder.layer.4.intermediate.dense.weight torch.Size([3072, 768])\n",
      "roberta.encoder.layer.4.intermediate.dense.bias torch.Size([3072])\n",
      "roberta.encoder.layer.4.output.dense.weight torch.Size([768, 3072])\n",
      "roberta.encoder.layer.4.output.dense.bias torch.Size([768])\n",
      "roberta.encoder.layer.4.output.LayerNorm.weight torch.Size([768])\n",
      "roberta.encoder.layer.4.output.LayerNorm.bias torch.Size([768])\n",
      "roberta.encoder.layer.5.attention.self.query.weight torch.Size([768, 768])\n",
      "roberta.encoder.layer.5.attention.self.query.bias torch.Size([768])\n",
      "roberta.encoder.layer.5.attention.self.key.weight torch.Size([768, 768])\n",
      "roberta.encoder.layer.5.attention.self.key.bias torch.Size([768])\n",
      "roberta.encoder.layer.5.attention.self.value.weight torch.Size([768, 768])\n",
      "roberta.encoder.layer.5.attention.self.value.bias torch.Size([768])\n",
      "roberta.encoder.layer.5.attention.output.dense.weight torch.Size([768, 768])\n",
      "roberta.encoder.layer.5.attention.output.dense.bias torch.Size([768])\n",
      "roberta.encoder.layer.5.attention.output.LayerNorm.weight torch.Size([768])\n",
      "roberta.encoder.layer.5.attention.output.LayerNorm.bias torch.Size([768])\n",
      "roberta.encoder.layer.5.intermediate.dense.weight torch.Size([3072, 768])\n",
      "roberta.encoder.layer.5.intermediate.dense.bias torch.Size([3072])\n",
      "roberta.encoder.layer.5.output.dense.weight torch.Size([768, 3072])\n",
      "roberta.encoder.layer.5.output.dense.bias torch.Size([768])\n",
      "roberta.encoder.layer.5.output.LayerNorm.weight torch.Size([768])\n",
      "roberta.encoder.layer.5.output.LayerNorm.bias torch.Size([768])\n",
      "roberta.encoder.layer.6.attention.self.query.weight torch.Size([768, 768])\n",
      "roberta.encoder.layer.6.attention.self.query.bias torch.Size([768])\n",
      "roberta.encoder.layer.6.attention.self.key.weight torch.Size([768, 768])\n",
      "roberta.encoder.layer.6.attention.self.key.bias torch.Size([768])\n",
      "roberta.encoder.layer.6.attention.self.value.weight torch.Size([768, 768])\n",
      "roberta.encoder.layer.6.attention.self.value.bias torch.Size([768])\n",
      "roberta.encoder.layer.6.attention.output.dense.weight torch.Size([768, 768])\n",
      "roberta.encoder.layer.6.attention.output.dense.bias torch.Size([768])\n",
      "roberta.encoder.layer.6.attention.output.LayerNorm.weight torch.Size([768])\n",
      "roberta.encoder.layer.6.attention.output.LayerNorm.bias torch.Size([768])\n",
      "roberta.encoder.layer.6.intermediate.dense.weight torch.Size([3072, 768])\n",
      "roberta.encoder.layer.6.intermediate.dense.bias torch.Size([3072])\n",
      "roberta.encoder.layer.6.output.dense.weight torch.Size([768, 3072])\n",
      "roberta.encoder.layer.6.output.dense.bias torch.Size([768])\n",
      "roberta.encoder.layer.6.output.LayerNorm.weight torch.Size([768])\n",
      "roberta.encoder.layer.6.output.LayerNorm.bias torch.Size([768])\n",
      "roberta.encoder.layer.7.attention.self.query.weight torch.Size([768, 768])\n",
      "roberta.encoder.layer.7.attention.self.query.bias torch.Size([768])\n",
      "roberta.encoder.layer.7.attention.self.key.weight torch.Size([768, 768])\n",
      "roberta.encoder.layer.7.attention.self.key.bias torch.Size([768])\n",
      "roberta.encoder.layer.7.attention.self.value.weight torch.Size([768, 768])\n",
      "roberta.encoder.layer.7.attention.self.value.bias torch.Size([768])\n",
      "roberta.encoder.layer.7.attention.output.dense.weight torch.Size([768, 768])\n",
      "roberta.encoder.layer.7.attention.output.dense.bias torch.Size([768])\n",
      "roberta.encoder.layer.7.attention.output.LayerNorm.weight torch.Size([768])\n",
      "roberta.encoder.layer.7.attention.output.LayerNorm.bias torch.Size([768])\n",
      "roberta.encoder.layer.7.intermediate.dense.weight torch.Size([3072, 768])\n",
      "roberta.encoder.layer.7.intermediate.dense.bias torch.Size([3072])\n",
      "roberta.encoder.layer.7.output.dense.weight torch.Size([768, 3072])\n",
      "roberta.encoder.layer.7.output.dense.bias torch.Size([768])\n",
      "roberta.encoder.layer.7.output.LayerNorm.weight torch.Size([768])\n",
      "roberta.encoder.layer.7.output.LayerNorm.bias torch.Size([768])\n",
      "roberta.encoder.layer.8.attention.self.query.weight torch.Size([768, 768])\n",
      "roberta.encoder.layer.8.attention.self.query.bias torch.Size([768])\n",
      "roberta.encoder.layer.8.attention.self.key.weight torch.Size([768, 768])\n",
      "roberta.encoder.layer.8.attention.self.key.bias torch.Size([768])\n",
      "roberta.encoder.layer.8.attention.self.value.weight torch.Size([768, 768])\n",
      "roberta.encoder.layer.8.attention.self.value.bias torch.Size([768])\n",
      "roberta.encoder.layer.8.attention.output.dense.weight torch.Size([768, 768])\n",
      "roberta.encoder.layer.8.attention.output.dense.bias torch.Size([768])\n",
      "roberta.encoder.layer.8.attention.output.LayerNorm.weight torch.Size([768])\n",
      "roberta.encoder.layer.8.attention.output.LayerNorm.bias torch.Size([768])\n",
      "roberta.encoder.layer.8.intermediate.dense.weight torch.Size([3072, 768])\n",
      "roberta.encoder.layer.8.intermediate.dense.bias torch.Size([3072])\n",
      "roberta.encoder.layer.8.output.dense.weight torch.Size([768, 3072])\n",
      "roberta.encoder.layer.8.output.dense.bias torch.Size([768])\n",
      "roberta.encoder.layer.8.output.LayerNorm.weight torch.Size([768])\n",
      "roberta.encoder.layer.8.output.LayerNorm.bias torch.Size([768])\n",
      "roberta.encoder.layer.9.attention.self.query.weight torch.Size([768, 768])\n",
      "roberta.encoder.layer.9.attention.self.query.bias torch.Size([768])\n",
      "roberta.encoder.layer.9.attention.self.key.weight torch.Size([768, 768])\n",
      "roberta.encoder.layer.9.attention.self.key.bias torch.Size([768])\n",
      "roberta.encoder.layer.9.attention.self.value.weight torch.Size([768, 768])\n",
      "roberta.encoder.layer.9.attention.self.value.bias torch.Size([768])\n",
      "roberta.encoder.layer.9.attention.output.dense.weight torch.Size([768, 768])\n",
      "roberta.encoder.layer.9.attention.output.dense.bias torch.Size([768])\n",
      "roberta.encoder.layer.9.attention.output.LayerNorm.weight torch.Size([768])\n",
      "roberta.encoder.layer.9.attention.output.LayerNorm.bias torch.Size([768])\n",
      "roberta.encoder.layer.9.intermediate.dense.weight torch.Size([3072, 768])\n",
      "roberta.encoder.layer.9.intermediate.dense.bias torch.Size([3072])\n",
      "roberta.encoder.layer.9.output.dense.weight torch.Size([768, 3072])\n",
      "roberta.encoder.layer.9.output.dense.bias torch.Size([768])\n",
      "roberta.encoder.layer.9.output.LayerNorm.weight torch.Size([768])\n",
      "roberta.encoder.layer.9.output.LayerNorm.bias torch.Size([768])\n",
      "roberta.encoder.layer.10.attention.self.query.weight torch.Size([768, 768])\n",
      "roberta.encoder.layer.10.attention.self.query.bias torch.Size([768])\n",
      "roberta.encoder.layer.10.attention.self.key.weight torch.Size([768, 768])\n",
      "roberta.encoder.layer.10.attention.self.key.bias torch.Size([768])\n",
      "roberta.encoder.layer.10.attention.self.value.weight torch.Size([768, 768])\n",
      "roberta.encoder.layer.10.attention.self.value.bias torch.Size([768])\n",
      "roberta.encoder.layer.10.attention.output.dense.weight torch.Size([768, 768])\n",
      "roberta.encoder.layer.10.attention.output.dense.bias torch.Size([768])\n",
      "roberta.encoder.layer.10.attention.output.LayerNorm.weight torch.Size([768])\n",
      "roberta.encoder.layer.10.attention.output.LayerNorm.bias torch.Size([768])\n",
      "roberta.encoder.layer.10.intermediate.dense.weight torch.Size([3072, 768])\n",
      "roberta.encoder.layer.10.intermediate.dense.bias torch.Size([3072])\n",
      "roberta.encoder.layer.10.output.dense.weight torch.Size([768, 3072])\n",
      "roberta.encoder.layer.10.output.dense.bias torch.Size([768])\n",
      "roberta.encoder.layer.10.output.LayerNorm.weight torch.Size([768])\n",
      "roberta.encoder.layer.10.output.LayerNorm.bias torch.Size([768])\n",
      "roberta.encoder.layer.11.attention.self.query.weight torch.Size([768, 768])\n",
      "roberta.encoder.layer.11.attention.self.query.bias torch.Size([768])\n",
      "roberta.encoder.layer.11.attention.self.key.weight torch.Size([768, 768])\n",
      "roberta.encoder.layer.11.attention.self.key.bias torch.Size([768])\n",
      "roberta.encoder.layer.11.attention.self.value.weight torch.Size([768, 768])\n",
      "roberta.encoder.layer.11.attention.self.value.bias torch.Size([768])\n",
      "roberta.encoder.layer.11.attention.output.dense.weight torch.Size([768, 768])\n",
      "roberta.encoder.layer.11.attention.output.dense.bias torch.Size([768])\n",
      "roberta.encoder.layer.11.attention.output.LayerNorm.weight torch.Size([768])\n",
      "roberta.encoder.layer.11.attention.output.LayerNorm.bias torch.Size([768])\n",
      "roberta.encoder.layer.11.intermediate.dense.weight torch.Size([3072, 768])\n",
      "roberta.encoder.layer.11.intermediate.dense.bias torch.Size([3072])\n",
      "roberta.encoder.layer.11.output.dense.weight torch.Size([768, 3072])\n",
      "roberta.encoder.layer.11.output.dense.bias torch.Size([768])\n",
      "roberta.encoder.layer.11.output.LayerNorm.weight torch.Size([768])\n",
      "roberta.encoder.layer.11.output.LayerNorm.bias torch.Size([768])\n",
      "classifier.dense.weight torch.Size([768, 768])\n",
      "classifier.dense.bias torch.Size([768])\n",
      "classifier.out_proj.weight torch.Size([2, 768])\n",
      "classifier.out_proj.bias torch.Size([2])\n"
     ]
    }
   ],
   "source": [
    "# print layers of the model and size of the layers\n",
    "for name, param in model_to_edit.named_parameters():\n",
    "    print(name, param.size())\n"
   ]
  },
  {
   "cell_type": "code",
   "execution_count": null,
   "metadata": {},
   "outputs": [],
   "source": []
  },
  {
   "cell_type": "markdown",
   "metadata": {},
   "source": [
    "## Stacking 1"
   ]
  },
  {
   "cell_type": "code",
   "execution_count": 11,
   "metadata": {},
   "outputs": [],
   "source": [
    "selected_layers = [7, 8, 9, 10]\n",
    "tensor = []\n",
    "for layer in selected_layers:\n",
    "    query_weights = model_to_edit.roberta.encoder.layer[layer].attention.self.query.weight.detach().cpu().numpy()\n",
    "    key_weights = model_to_edit.roberta.encoder.layer[layer].attention.self.key.weight.detach().cpu().numpy()\n",
    "    # value_weights = model_to_edit.roberta.encoder.layer[layer].attention.self.value.weight.detach().cpu().numpy()\n",
    "    # output_weights = model_to_edit.roberta.encoder.layer[layer].attention.output.dense.weight.detach().cpu().numpy()\n",
    "    \n",
    "    # Stacking the weights for each selected layer\n",
    "    # stacked_weights = np.stack([query_weights, key_weights, value_weights, output_weights])\n",
    "    stacked_weights = np.stack([query_weights, key_weights])\n",
    "    tensor.append(stacked_weights)\n",
    "    \n",
    "stacked_tensor = np.stack(tensor)\n",
    "    "
   ]
  },
  {
   "cell_type": "code",
   "execution_count": 12,
   "metadata": {},
   "outputs": [
    {
     "data": {
      "text/plain": [
       "(4, 2, 768, 768)"
      ]
     },
     "execution_count": 12,
     "metadata": {},
     "output_type": "execute_result"
    }
   ],
   "source": [
    "stacked_tensor.shape"
   ]
  },
  {
   "cell_type": "code",
   "execution_count": 13,
   "metadata": {},
   "outputs": [],
   "source": [
    "\n",
    "def plot_reconstruction_error(tensor, max_desired_rank):\n",
    "    rank_range = range(1, max_desired_rank + 1)\n",
    "    reconstruction_errors = []\n",
    "    for rank in rank_range:\n",
    "        print(rank)\n",
    "        factors = tl.decomposition.parafac(tensor, rank=rank)\n",
    "        reconstructed_tensor = tl.kruskal_to_tensor(factors)\n",
    "        reconstruction_error = tl.norm(tensor - reconstructed_tensor)\n",
    "        reconstruction_errors.append(reconstruction_error)\n",
    "    plt.plot(rank_range, reconstruction_errors)\n",
    "    plt.xlabel('Rank')\n",
    "    plt.ylabel('Reconstruction Error')\n",
    "    plt.show()\n",
    "\n",
    "\n",
    "    "
   ]
  },
  {
   "cell_type": "code",
   "execution_count": 14,
   "metadata": {},
   "outputs": [
    {
     "name": "stdout",
     "output_type": "stream",
     "text": [
      "1\n",
      "2\n",
      "3\n"
     ]
    },
    {
     "ename": "MemoryError",
     "evalue": "Unable to allocate 40.5 TiB for an array with shape (2359296, 2359296) and data type float64",
     "output_type": "error",
     "traceback": [
      "\u001b[0;31m---------------------------------------------------------------------------\u001b[0m",
      "\u001b[0;31mMemoryError\u001b[0m                               Traceback (most recent call last)",
      "Cell \u001b[0;32mIn[14], line 1\u001b[0m\n\u001b[0;32m----> 1\u001b[0m \u001b[43mplot_reconstruction_error\u001b[49m\u001b[43m(\u001b[49m\u001b[43mstacked_tensor\u001b[49m\u001b[43m,\u001b[49m\u001b[43m \u001b[49m\u001b[38;5;241;43m20\u001b[39;49m\u001b[43m)\u001b[49m\n",
      "Cell \u001b[0;32mIn[13], line 6\u001b[0m, in \u001b[0;36mplot_reconstruction_error\u001b[0;34m(tensor, max_desired_rank)\u001b[0m\n\u001b[1;32m      4\u001b[0m \u001b[38;5;28;01mfor\u001b[39;00m rank \u001b[38;5;129;01min\u001b[39;00m rank_range:\n\u001b[1;32m      5\u001b[0m     \u001b[38;5;28mprint\u001b[39m(rank)\n\u001b[0;32m----> 6\u001b[0m     factors \u001b[38;5;241m=\u001b[39m \u001b[43mtl\u001b[49m\u001b[38;5;241;43m.\u001b[39;49m\u001b[43mdecomposition\u001b[49m\u001b[38;5;241;43m.\u001b[39;49m\u001b[43mparafac\u001b[49m\u001b[43m(\u001b[49m\u001b[43mtensor\u001b[49m\u001b[43m,\u001b[49m\u001b[43m \u001b[49m\u001b[43mrank\u001b[49m\u001b[38;5;241;43m=\u001b[39;49m\u001b[43mrank\u001b[49m\u001b[43m)\u001b[49m\n\u001b[1;32m      7\u001b[0m     reconstructed_tensor \u001b[38;5;241m=\u001b[39m tl\u001b[38;5;241m.\u001b[39mkruskal_to_tensor(factors)\n\u001b[1;32m      8\u001b[0m     reconstruction_error \u001b[38;5;241m=\u001b[39m tl\u001b[38;5;241m.\u001b[39mnorm(tensor \u001b[38;5;241m-\u001b[39m reconstructed_tensor)\n",
      "File \u001b[0;32m~/anaconda3/envs/laser/lib/python3.11/site-packages/tensorly/decomposition/_cp.py:338\u001b[0m, in \u001b[0;36mparafac\u001b[0;34m(tensor, rank, n_iter_max, init, svd, normalize_factors, orthogonalise, tol, random_state, verbose, return_errors, sparsity, l2_reg, mask, cvg_criterion, fixed_modes, svd_mask_repeats, linesearch, callback)\u001b[0m\n\u001b[1;32m    335\u001b[0m     acc_fail \u001b[38;5;241m=\u001b[39m \u001b[38;5;241m0\u001b[39m  \u001b[38;5;66;03m# How many times acceleration have failed\u001b[39;00m\n\u001b[1;32m    336\u001b[0m     max_fail \u001b[38;5;241m=\u001b[39m \u001b[38;5;241m4\u001b[39m  \u001b[38;5;66;03m# Increase acc_pow with one after max_fail failure\u001b[39;00m\n\u001b[0;32m--> 338\u001b[0m weights, factors \u001b[38;5;241m=\u001b[39m \u001b[43minitialize_cp\u001b[49m\u001b[43m(\u001b[49m\n\u001b[1;32m    339\u001b[0m \u001b[43m    \u001b[49m\u001b[43mtensor\u001b[49m\u001b[43m,\u001b[49m\n\u001b[1;32m    340\u001b[0m \u001b[43m    \u001b[49m\u001b[43mrank\u001b[49m\u001b[43m,\u001b[49m\n\u001b[1;32m    341\u001b[0m \u001b[43m    \u001b[49m\u001b[43minit\u001b[49m\u001b[38;5;241;43m=\u001b[39;49m\u001b[43minit\u001b[49m\u001b[43m,\u001b[49m\n\u001b[1;32m    342\u001b[0m \u001b[43m    \u001b[49m\u001b[43msvd\u001b[49m\u001b[38;5;241;43m=\u001b[39;49m\u001b[43msvd\u001b[49m\u001b[43m,\u001b[49m\n\u001b[1;32m    343\u001b[0m \u001b[43m    \u001b[49m\u001b[43mrandom_state\u001b[49m\u001b[38;5;241;43m=\u001b[39;49m\u001b[43mrandom_state\u001b[49m\u001b[43m,\u001b[49m\n\u001b[1;32m    344\u001b[0m \u001b[43m    \u001b[49m\u001b[43mnormalize_factors\u001b[49m\u001b[38;5;241;43m=\u001b[39;49m\u001b[43mnormalize_factors\u001b[49m\u001b[43m,\u001b[49m\n\u001b[1;32m    345\u001b[0m \u001b[43m    \u001b[49m\u001b[43mmask\u001b[49m\u001b[38;5;241;43m=\u001b[39;49m\u001b[43mmask\u001b[49m\u001b[43m,\u001b[49m\n\u001b[1;32m    346\u001b[0m \u001b[43m    \u001b[49m\u001b[43msvd_mask_repeats\u001b[49m\u001b[38;5;241;43m=\u001b[39;49m\u001b[43msvd_mask_repeats\u001b[49m\u001b[43m,\u001b[49m\n\u001b[1;32m    347\u001b[0m \u001b[43m\u001b[49m\u001b[43m)\u001b[49m\n\u001b[1;32m    349\u001b[0m rec_errors \u001b[38;5;241m=\u001b[39m []\n\u001b[1;32m    350\u001b[0m norm_tensor \u001b[38;5;241m=\u001b[39m tl\u001b[38;5;241m.\u001b[39mnorm(tensor, \u001b[38;5;241m2\u001b[39m)\n",
      "File \u001b[0;32m~/anaconda3/envs/laser/lib/python3.11/site-packages/tensorly/decomposition/_cp.py:76\u001b[0m, in \u001b[0;36minitialize_cp\u001b[0;34m(tensor, rank, init, svd, non_negative, random_state, normalize_factors, mask, svd_mask_repeats)\u001b[0m\n\u001b[1;32m     74\u001b[0m \u001b[38;5;28;01mfor\u001b[39;00m mode \u001b[38;5;129;01min\u001b[39;00m \u001b[38;5;28mrange\u001b[39m(tl\u001b[38;5;241m.\u001b[39mndim(tensor)):\n\u001b[1;32m     75\u001b[0m     mask_unfold \u001b[38;5;241m=\u001b[39m \u001b[38;5;28;01mNone\u001b[39;00m \u001b[38;5;28;01mif\u001b[39;00m mask \u001b[38;5;129;01mis\u001b[39;00m \u001b[38;5;28;01mNone\u001b[39;00m \u001b[38;5;28;01melse\u001b[39;00m unfold(mask, mode)\n\u001b[0;32m---> 76\u001b[0m     U, S, _ \u001b[38;5;241m=\u001b[39m \u001b[43msvd_interface\u001b[49m\u001b[43m(\u001b[49m\n\u001b[1;32m     77\u001b[0m \u001b[43m        \u001b[49m\u001b[43munfold\u001b[49m\u001b[43m(\u001b[49m\u001b[43mtensor\u001b[49m\u001b[43m,\u001b[49m\u001b[43m \u001b[49m\u001b[43mmode\u001b[49m\u001b[43m)\u001b[49m\u001b[43m,\u001b[49m\n\u001b[1;32m     78\u001b[0m \u001b[43m        \u001b[49m\u001b[43mn_eigenvecs\u001b[49m\u001b[38;5;241;43m=\u001b[39;49m\u001b[43mrank\u001b[49m\u001b[43m,\u001b[49m\n\u001b[1;32m     79\u001b[0m \u001b[43m        \u001b[49m\u001b[43mmethod\u001b[49m\u001b[38;5;241;43m=\u001b[39;49m\u001b[43msvd\u001b[49m\u001b[43m,\u001b[49m\n\u001b[1;32m     80\u001b[0m \u001b[43m        \u001b[49m\u001b[43mnon_negative\u001b[49m\u001b[38;5;241;43m=\u001b[39;49m\u001b[43mnon_negative\u001b[49m\u001b[43m,\u001b[49m\n\u001b[1;32m     81\u001b[0m \u001b[43m        \u001b[49m\u001b[43mmask\u001b[49m\u001b[38;5;241;43m=\u001b[39;49m\u001b[43mmask_unfold\u001b[49m\u001b[43m,\u001b[49m\n\u001b[1;32m     82\u001b[0m \u001b[43m        \u001b[49m\u001b[43mn_iter_mask_imputation\u001b[49m\u001b[38;5;241;43m=\u001b[39;49m\u001b[43msvd_mask_repeats\u001b[49m\u001b[43m,\u001b[49m\n\u001b[1;32m     83\u001b[0m \u001b[43m    \u001b[49m\u001b[43m)\u001b[49m\n\u001b[1;32m     85\u001b[0m     \u001b[38;5;66;03m# Put SVD initialization on the same scaling as the tensor in case normalize_factors=False\u001b[39;00m\n\u001b[1;32m     86\u001b[0m     \u001b[38;5;28;01mif\u001b[39;00m mode \u001b[38;5;241m==\u001b[39m \u001b[38;5;241m0\u001b[39m:\n",
      "File \u001b[0;32m~/anaconda3/envs/laser/lib/python3.11/site-packages/tensorly/tenalg/svd.py:418\u001b[0m, in \u001b[0;36msvd_interface\u001b[0;34m(matrix, method, n_eigenvecs, flip_sign, u_based_flip_sign, non_negative, mask, n_iter_mask_imputation, **kwargs)\u001b[0m\n\u001b[1;32m    413\u001b[0m \u001b[38;5;28;01melse\u001b[39;00m:\n\u001b[1;32m    414\u001b[0m     \u001b[38;5;28;01mraise\u001b[39;00m \u001b[38;5;167;01mValueError\u001b[39;00m(\n\u001b[1;32m    415\u001b[0m         \u001b[38;5;124mf\u001b[39m\u001b[38;5;124m\"\u001b[39m\u001b[38;5;124mGot svd=\u001b[39m\u001b[38;5;132;01m{\u001b[39;00mmethod\u001b[38;5;132;01m}\u001b[39;00m\u001b[38;5;124m. However, the possible choices are \u001b[39m\u001b[38;5;132;01m{\u001b[39;00mSVD_FUNS\u001b[38;5;132;01m}\u001b[39;00m\u001b[38;5;124m or to pass a callable.\u001b[39m\u001b[38;5;124m\"\u001b[39m\n\u001b[1;32m    416\u001b[0m     )\n\u001b[0;32m--> 418\u001b[0m U, S, V \u001b[38;5;241m=\u001b[39m \u001b[43msvd_fun\u001b[49m\u001b[43m(\u001b[49m\u001b[43mmatrix\u001b[49m\u001b[43m,\u001b[49m\u001b[43m \u001b[49m\u001b[43mn_eigenvecs\u001b[49m\u001b[38;5;241;43m=\u001b[39;49m\u001b[43mn_eigenvecs\u001b[49m\u001b[43m,\u001b[49m\u001b[43m \u001b[49m\u001b[38;5;241;43m*\u001b[39;49m\u001b[38;5;241;43m*\u001b[39;49m\u001b[43mkwargs\u001b[49m\u001b[43m)\u001b[49m\n\u001b[1;32m    420\u001b[0m \u001b[38;5;28;01mif\u001b[39;00m mask \u001b[38;5;129;01mis\u001b[39;00m \u001b[38;5;129;01mnot\u001b[39;00m \u001b[38;5;28;01mNone\u001b[39;00m:\n\u001b[1;32m    421\u001b[0m     \u001b[38;5;28;01mfor\u001b[39;00m _ \u001b[38;5;129;01min\u001b[39;00m \u001b[38;5;28mrange\u001b[39m(n_iter_mask_imputation):\n",
      "File \u001b[0;32m~/anaconda3/envs/laser/lib/python3.11/site-packages/tensorly/tenalg/svd.py:226\u001b[0m, in \u001b[0;36mtruncated_svd\u001b[0;34m(matrix, n_eigenvecs, **kwargs)\u001b[0m\n\u001b[1;32m    223\u001b[0m n_eigenvecs, min_dim, _ \u001b[38;5;241m=\u001b[39m svd_checks(matrix, n_eigenvecs\u001b[38;5;241m=\u001b[39mn_eigenvecs)\n\u001b[1;32m    224\u001b[0m full_matrices \u001b[38;5;241m=\u001b[39m \u001b[38;5;28;01mTrue\u001b[39;00m \u001b[38;5;28;01mif\u001b[39;00m n_eigenvecs \u001b[38;5;241m>\u001b[39m min_dim \u001b[38;5;28;01melse\u001b[39;00m \u001b[38;5;28;01mFalse\u001b[39;00m\n\u001b[0;32m--> 226\u001b[0m U, S, V \u001b[38;5;241m=\u001b[39m \u001b[43mtl\u001b[49m\u001b[38;5;241;43m.\u001b[39;49m\u001b[43msvd\u001b[49m\u001b[43m(\u001b[49m\u001b[43mmatrix\u001b[49m\u001b[43m,\u001b[49m\u001b[43m \u001b[49m\u001b[43mfull_matrices\u001b[49m\u001b[38;5;241;43m=\u001b[39;49m\u001b[43mfull_matrices\u001b[49m\u001b[43m)\u001b[49m\n\u001b[1;32m    227\u001b[0m \u001b[38;5;28;01mreturn\u001b[39;00m U[:, :n_eigenvecs], S[:n_eigenvecs], V[:n_eigenvecs, :]\n",
      "File \u001b[0;32m~/anaconda3/envs/laser/lib/python3.11/site-packages/tensorly/backend/__init__.py:206\u001b[0m, in \u001b[0;36mBackendManager.dispatch_backend_method.<locals>.wrapped_backend_method\u001b[0;34m(*args, **kwargs)\u001b[0m\n\u001b[1;32m    202\u001b[0m \u001b[38;5;28;01mdef\u001b[39;00m \u001b[38;5;21mwrapped_backend_method\u001b[39m(\u001b[38;5;241m*\u001b[39margs, \u001b[38;5;241m*\u001b[39m\u001b[38;5;241m*\u001b[39mkwargs):\n\u001b[1;32m    203\u001b[0m \u001b[38;5;250m    \u001b[39m\u001b[38;5;124;03m\"\"\"A dynamically dispatched method\u001b[39;00m\n\u001b[1;32m    204\u001b[0m \n\u001b[1;32m    205\u001b[0m \u001b[38;5;124;03m    Returns the queried method from the currently set backend\"\"\"\u001b[39;00m\n\u001b[0;32m--> 206\u001b[0m     \u001b[38;5;28;01mreturn\u001b[39;00m \u001b[38;5;28;43mgetattr\u001b[39;49m\u001b[43m(\u001b[49m\n\u001b[1;32m    207\u001b[0m \u001b[43m        \u001b[49m\u001b[38;5;28;43mcls\u001b[39;49m\u001b[38;5;241;43m.\u001b[39;49m\u001b[43m_THREAD_LOCAL_DATA\u001b[49m\u001b[38;5;241;43m.\u001b[39;49m\u001b[38;5;18;43m__dict__\u001b[39;49m\u001b[38;5;241;43m.\u001b[39;49m\u001b[43mget\u001b[49m\u001b[43m(\u001b[49m\u001b[38;5;124;43m\"\u001b[39;49m\u001b[38;5;124;43mbackend\u001b[39;49m\u001b[38;5;124;43m\"\u001b[39;49m\u001b[43m,\u001b[49m\u001b[43m \u001b[49m\u001b[38;5;28;43mcls\u001b[39;49m\u001b[38;5;241;43m.\u001b[39;49m\u001b[43m_backend\u001b[49m\u001b[43m)\u001b[49m\u001b[43m,\u001b[49m\u001b[43m \u001b[49m\u001b[43mname\u001b[49m\n\u001b[1;32m    208\u001b[0m \u001b[43m    \u001b[49m\u001b[43m)\u001b[49m\u001b[43m(\u001b[49m\u001b[38;5;241;43m*\u001b[39;49m\u001b[43margs\u001b[49m\u001b[43m,\u001b[49m\u001b[43m \u001b[49m\u001b[38;5;241;43m*\u001b[39;49m\u001b[38;5;241;43m*\u001b[39;49m\u001b[43mkwargs\u001b[49m\u001b[43m)\u001b[49m\n",
      "File \u001b[0;32m~/anaconda3/envs/laser/lib/python3.11/site-packages/numpy/linalg/linalg.py:1681\u001b[0m, in \u001b[0;36msvd\u001b[0;34m(a, full_matrices, compute_uv, hermitian)\u001b[0m\n\u001b[1;32m   1678\u001b[0m         gufunc \u001b[38;5;241m=\u001b[39m _umath_linalg\u001b[38;5;241m.\u001b[39msvd_n_s\n\u001b[1;32m   1680\u001b[0m signature \u001b[38;5;241m=\u001b[39m \u001b[38;5;124m'\u001b[39m\u001b[38;5;124mD->DdD\u001b[39m\u001b[38;5;124m'\u001b[39m \u001b[38;5;28;01mif\u001b[39;00m isComplexType(t) \u001b[38;5;28;01melse\u001b[39;00m \u001b[38;5;124m'\u001b[39m\u001b[38;5;124md->ddd\u001b[39m\u001b[38;5;124m'\u001b[39m\n\u001b[0;32m-> 1681\u001b[0m u, s, vh \u001b[38;5;241m=\u001b[39m \u001b[43mgufunc\u001b[49m\u001b[43m(\u001b[49m\u001b[43ma\u001b[49m\u001b[43m,\u001b[49m\u001b[43m \u001b[49m\u001b[43msignature\u001b[49m\u001b[38;5;241;43m=\u001b[39;49m\u001b[43msignature\u001b[49m\u001b[43m,\u001b[49m\u001b[43m \u001b[49m\u001b[43mextobj\u001b[49m\u001b[38;5;241;43m=\u001b[39;49m\u001b[43mextobj\u001b[49m\u001b[43m)\u001b[49m\n\u001b[1;32m   1682\u001b[0m u \u001b[38;5;241m=\u001b[39m u\u001b[38;5;241m.\u001b[39mastype(result_t, copy\u001b[38;5;241m=\u001b[39m\u001b[38;5;28;01mFalse\u001b[39;00m)\n\u001b[1;32m   1683\u001b[0m s \u001b[38;5;241m=\u001b[39m s\u001b[38;5;241m.\u001b[39mastype(_realType(result_t), copy\u001b[38;5;241m=\u001b[39m\u001b[38;5;28;01mFalse\u001b[39;00m)\n",
      "\u001b[0;31mMemoryError\u001b[0m: Unable to allocate 40.5 TiB for an array with shape (2359296, 2359296) and data type float64"
     ]
    }
   ],
   "source": [
    "plot_reconstruction_error(stacked_tensor, 20)"
   ]
  },
  {
   "cell_type": "markdown",
   "metadata": {},
   "source": []
  },
  {
   "cell_type": "code",
   "execution_count": null,
   "metadata": {},
   "outputs": [
    {
     "name": "stdout",
     "output_type": "stream",
     "text": [
      "169.92155\n"
     ]
    }
   ],
   "source": [
    "# Decomposing the tensor\n",
    "factors = tl.decomposition.parafac(stacked_tensor, rank=2)\n",
    "reconstructed_tensor = tl.kruskal_to_tensor(factors)\n",
    "reconstruction_error = tl.norm(stacked_tensor - reconstructed_tensor)\n",
    "print(reconstruction_error)\n"
   ]
  },
  {
   "cell_type": "code",
   "execution_count": null,
   "metadata": {},
   "outputs": [
    {
     "data": {
      "text/plain": [
       "(4, 4, 768, 768)"
      ]
     },
     "execution_count": 15,
     "metadata": {},
     "output_type": "execute_result"
    }
   ],
   "source": [
    "reconstructed_tensor.shape"
   ]
  },
  {
   "cell_type": "code",
   "execution_count": null,
   "metadata": {},
   "outputs": [
    {
     "data": {
      "text/plain": [
       "RobertaForSequenceClassification(\n",
       "  (roberta): RobertaModel(\n",
       "    (embeddings): RobertaEmbeddings(\n",
       "      (word_embeddings): Embedding(50265, 768, padding_idx=1)\n",
       "      (position_embeddings): Embedding(514, 768, padding_idx=1)\n",
       "      (token_type_embeddings): Embedding(1, 768)\n",
       "      (LayerNorm): LayerNorm((768,), eps=1e-05, elementwise_affine=True)\n",
       "      (dropout): Dropout(p=0.1, inplace=False)\n",
       "    )\n",
       "    (encoder): RobertaEncoder(\n",
       "      (layer): ModuleList(\n",
       "        (0-11): 12 x RobertaLayer(\n",
       "          (attention): RobertaAttention(\n",
       "            (self): RobertaSelfAttention(\n",
       "              (query): Linear(in_features=768, out_features=768, bias=True)\n",
       "              (key): Linear(in_features=768, out_features=768, bias=True)\n",
       "              (value): Linear(in_features=768, out_features=768, bias=True)\n",
       "              (dropout): Dropout(p=0.1, inplace=False)\n",
       "            )\n",
       "            (output): RobertaSelfOutput(\n",
       "              (dense): Linear(in_features=768, out_features=768, bias=True)\n",
       "              (LayerNorm): LayerNorm((768,), eps=1e-05, elementwise_affine=True)\n",
       "              (dropout): Dropout(p=0.1, inplace=False)\n",
       "            )\n",
       "          )\n",
       "          (intermediate): RobertaIntermediate(\n",
       "            (dense): Linear(in_features=768, out_features=3072, bias=True)\n",
       "            (intermediate_act_fn): GELUActivation()\n",
       "          )\n",
       "          (output): RobertaOutput(\n",
       "            (dense): Linear(in_features=3072, out_features=768, bias=True)\n",
       "            (LayerNorm): LayerNorm((768,), eps=1e-05, elementwise_affine=True)\n",
       "            (dropout): Dropout(p=0.1, inplace=False)\n",
       "          )\n",
       "        )\n",
       "      )\n",
       "    )\n",
       "  )\n",
       "  (classifier): RobertaClassificationHead(\n",
       "    (dense): Linear(in_features=768, out_features=768, bias=True)\n",
       "    (dropout): Dropout(p=0.1, inplace=False)\n",
       "    (out_proj): Linear(in_features=768, out_features=2, bias=True)\n",
       "  )\n",
       ")"
      ]
     },
     "execution_count": 16,
     "metadata": {},
     "output_type": "execute_result"
    }
   ],
   "source": [
    "# replace the weights of the selected layers with the reconstructed weights\n",
    "\n",
    "for i, layer in enumerate(selected_layers):\n",
    "    layer_weights = reconstructed_tensor[i]\n",
    "    \n",
    "    reconstructed_query_weights = layer_weights[0]\n",
    "    reconstructed_key_weights = layer_weights[1]\n",
    "    reconstructed_value_weights = layer_weights[2]\n",
    "    reconstructed_output_weights = layer_weights[3]\n",
    "    \n",
    "    model_to_edit.roberta.encoder.layer[layer].attention.self.query.weight = torch.nn.Parameter(torch.tensor(reconstructed_query_weights))\n",
    "    model_to_edit.roberta.encoder.layer[layer].attention.self.key.weight = torch.nn.Parameter(torch.tensor(reconstructed_key_weights))\n",
    "    model_to_edit.roberta.encoder.layer[layer].attention.self.value.weight = torch.nn.Parameter(torch.tensor(reconstructed_value_weights))\n",
    "    model_to_edit.roberta.encoder.layer[layer].attention.output.dense.weight = torch.nn.Parameter(torch.tensor(reconstructed_output_weights))\n",
    "\n",
    "model_to_edit.to(device)"
   ]
  },
  {
   "cell_type": "code",
   "execution_count": null,
   "metadata": {},
   "outputs": [
    {
     "name": "stdout",
     "output_type": "stream",
     "text": [
      "Accuracy:  0.3705\n",
      "Loss:  0.0897342434823513\n"
     ]
    }
   ],
   "source": [
    "for batch in data_loader:\n",
    "    batch = {k: v.to(device) for k, v in batch.items()}\n",
    "    labels = batch['labels']\n",
    "    outputs = model_to_edit(**batch)\n",
    "    loss = outputs.loss\n",
    "    logits = outputs.logits\n",
    "    \n",
    "    total_loss += loss.item()\n",
    "    total += labels.size(0)\n",
    "    correct += (torch.argmax(logits, -1) == labels).sum().item()\n",
    "    \n",
    "print(\"Accuracy: \", correct/total)\n",
    "print(\"Loss: \", total_loss/total)\n",
    "\n"
   ]
  },
  {
   "cell_type": "markdown",
   "metadata": {},
   "source": [
    "# Stacking 2"
   ]
  },
  {
   "cell_type": "code",
   "execution_count": null,
   "metadata": {},
   "outputs": [],
   "source": [
    "selected_layers = [7, 8, 9, 10]\n",
    "tensor = []\n",
    "for layer in selected_layers:\n",
    "    query_weights = model_to_edit.roberta.encoder.layer[layer].attention.self.query.weight.detach().cpu().numpy()\n",
    "    key_weights = model_to_edit.roberta.encoder.layer[layer].attention.self.key.weight.detach().cpu().numpy()\n",
    "    value_weights = model_to_edit.roberta.encoder.layer[layer].attention.self.value.weight.detach().cpu().numpy()\n",
    "    output_weights = model_to_edit.roberta.encoder.layer[layer].attention.output.dense.weight.detach().cpu().numpy()\n",
    "    \n",
    "    layer_block = np.array([query_weights, key_weights, value_weights, output_weights])\n",
    "    tensor.append(layer_block)\n",
    "    \n",
    "stacked_tensor = np.vstack(tensor)"
   ]
  },
  {
   "cell_type": "code",
   "execution_count": null,
   "metadata": {},
   "outputs": [
    {
     "data": {
      "text/plain": [
       "(16, 768, 768)"
      ]
     },
     "execution_count": 24,
     "metadata": {},
     "output_type": "execute_result"
    }
   ],
   "source": [
    "stacked_tensor.shape"
   ]
  },
  {
   "cell_type": "code",
   "execution_count": null,
   "metadata": {},
   "outputs": [
    {
     "name": "stdout",
     "output_type": "stream",
     "text": [
      "1\n",
      "2\n",
      "3\n",
      "4\n",
      "5\n",
      "6\n",
      "7\n",
      "8\n",
      "9\n",
      "10\n",
      "11\n",
      "12\n",
      "13\n",
      "14\n",
      "15\n",
      "16\n",
      "17\n"
     ]
    },
    {
     "ename": "MemoryError",
     "evalue": "Unable to allocate 2.53 TiB for an array with shape (589824, 589824) and data type float64",
     "output_type": "error",
     "traceback": [
      "\u001b[0;31m---------------------------------------------------------------------------\u001b[0m",
      "\u001b[0;31mMemoryError\u001b[0m                               Traceback (most recent call last)",
      "Cell \u001b[0;32mIn[25], line 1\u001b[0m\n\u001b[0;32m----> 1\u001b[0m \u001b[43mplot_reconstruction_error\u001b[49m\u001b[43m(\u001b[49m\u001b[43mstacked_tensor\u001b[49m\u001b[43m,\u001b[49m\u001b[43m \u001b[49m\u001b[38;5;241;43m20\u001b[39;49m\u001b[43m)\u001b[49m\n",
      "Cell \u001b[0;32mIn[21], line 6\u001b[0m, in \u001b[0;36mplot_reconstruction_error\u001b[0;34m(tensor, max_desired_rank)\u001b[0m\n\u001b[1;32m      4\u001b[0m \u001b[38;5;28;01mfor\u001b[39;00m rank \u001b[38;5;129;01min\u001b[39;00m rank_range:\n\u001b[1;32m      5\u001b[0m     \u001b[38;5;28mprint\u001b[39m(rank)\n\u001b[0;32m----> 6\u001b[0m     factors \u001b[38;5;241m=\u001b[39m \u001b[43mtl\u001b[49m\u001b[38;5;241;43m.\u001b[39;49m\u001b[43mdecomposition\u001b[49m\u001b[38;5;241;43m.\u001b[39;49m\u001b[43mparafac\u001b[49m\u001b[43m(\u001b[49m\u001b[43mtensor\u001b[49m\u001b[43m,\u001b[49m\u001b[43m \u001b[49m\u001b[43mrank\u001b[49m\u001b[38;5;241;43m=\u001b[39;49m\u001b[43mrank\u001b[49m\u001b[43m)\u001b[49m\n\u001b[1;32m      7\u001b[0m     reconstructed_tensor \u001b[38;5;241m=\u001b[39m tl\u001b[38;5;241m.\u001b[39mkruskal_to_tensor(factors)\n\u001b[1;32m      8\u001b[0m     reconstruction_error \u001b[38;5;241m=\u001b[39m tl\u001b[38;5;241m.\u001b[39mnorm(tensor \u001b[38;5;241m-\u001b[39m reconstructed_tensor)\n",
      "File \u001b[0;32m~/anaconda3/envs/laser/lib/python3.11/site-packages/tensorly/decomposition/_cp.py:338\u001b[0m, in \u001b[0;36mparafac\u001b[0;34m(tensor, rank, n_iter_max, init, svd, normalize_factors, orthogonalise, tol, random_state, verbose, return_errors, sparsity, l2_reg, mask, cvg_criterion, fixed_modes, svd_mask_repeats, linesearch, callback)\u001b[0m\n\u001b[1;32m    335\u001b[0m     acc_fail \u001b[38;5;241m=\u001b[39m \u001b[38;5;241m0\u001b[39m  \u001b[38;5;66;03m# How many times acceleration have failed\u001b[39;00m\n\u001b[1;32m    336\u001b[0m     max_fail \u001b[38;5;241m=\u001b[39m \u001b[38;5;241m4\u001b[39m  \u001b[38;5;66;03m# Increase acc_pow with one after max_fail failure\u001b[39;00m\n\u001b[0;32m--> 338\u001b[0m weights, factors \u001b[38;5;241m=\u001b[39m \u001b[43minitialize_cp\u001b[49m\u001b[43m(\u001b[49m\n\u001b[1;32m    339\u001b[0m \u001b[43m    \u001b[49m\u001b[43mtensor\u001b[49m\u001b[43m,\u001b[49m\n\u001b[1;32m    340\u001b[0m \u001b[43m    \u001b[49m\u001b[43mrank\u001b[49m\u001b[43m,\u001b[49m\n\u001b[1;32m    341\u001b[0m \u001b[43m    \u001b[49m\u001b[43minit\u001b[49m\u001b[38;5;241;43m=\u001b[39;49m\u001b[43minit\u001b[49m\u001b[43m,\u001b[49m\n\u001b[1;32m    342\u001b[0m \u001b[43m    \u001b[49m\u001b[43msvd\u001b[49m\u001b[38;5;241;43m=\u001b[39;49m\u001b[43msvd\u001b[49m\u001b[43m,\u001b[49m\n\u001b[1;32m    343\u001b[0m \u001b[43m    \u001b[49m\u001b[43mrandom_state\u001b[49m\u001b[38;5;241;43m=\u001b[39;49m\u001b[43mrandom_state\u001b[49m\u001b[43m,\u001b[49m\n\u001b[1;32m    344\u001b[0m \u001b[43m    \u001b[49m\u001b[43mnormalize_factors\u001b[49m\u001b[38;5;241;43m=\u001b[39;49m\u001b[43mnormalize_factors\u001b[49m\u001b[43m,\u001b[49m\n\u001b[1;32m    345\u001b[0m \u001b[43m    \u001b[49m\u001b[43mmask\u001b[49m\u001b[38;5;241;43m=\u001b[39;49m\u001b[43mmask\u001b[49m\u001b[43m,\u001b[49m\n\u001b[1;32m    346\u001b[0m \u001b[43m    \u001b[49m\u001b[43msvd_mask_repeats\u001b[49m\u001b[38;5;241;43m=\u001b[39;49m\u001b[43msvd_mask_repeats\u001b[49m\u001b[43m,\u001b[49m\n\u001b[1;32m    347\u001b[0m \u001b[43m\u001b[49m\u001b[43m)\u001b[49m\n\u001b[1;32m    349\u001b[0m rec_errors \u001b[38;5;241m=\u001b[39m []\n\u001b[1;32m    350\u001b[0m norm_tensor \u001b[38;5;241m=\u001b[39m tl\u001b[38;5;241m.\u001b[39mnorm(tensor, \u001b[38;5;241m2\u001b[39m)\n",
      "File \u001b[0;32m~/anaconda3/envs/laser/lib/python3.11/site-packages/tensorly/decomposition/_cp.py:76\u001b[0m, in \u001b[0;36minitialize_cp\u001b[0;34m(tensor, rank, init, svd, non_negative, random_state, normalize_factors, mask, svd_mask_repeats)\u001b[0m\n\u001b[1;32m     74\u001b[0m \u001b[38;5;28;01mfor\u001b[39;00m mode \u001b[38;5;129;01min\u001b[39;00m \u001b[38;5;28mrange\u001b[39m(tl\u001b[38;5;241m.\u001b[39mndim(tensor)):\n\u001b[1;32m     75\u001b[0m     mask_unfold \u001b[38;5;241m=\u001b[39m \u001b[38;5;28;01mNone\u001b[39;00m \u001b[38;5;28;01mif\u001b[39;00m mask \u001b[38;5;129;01mis\u001b[39;00m \u001b[38;5;28;01mNone\u001b[39;00m \u001b[38;5;28;01melse\u001b[39;00m unfold(mask, mode)\n\u001b[0;32m---> 76\u001b[0m     U, S, _ \u001b[38;5;241m=\u001b[39m \u001b[43msvd_interface\u001b[49m\u001b[43m(\u001b[49m\n\u001b[1;32m     77\u001b[0m \u001b[43m        \u001b[49m\u001b[43munfold\u001b[49m\u001b[43m(\u001b[49m\u001b[43mtensor\u001b[49m\u001b[43m,\u001b[49m\u001b[43m \u001b[49m\u001b[43mmode\u001b[49m\u001b[43m)\u001b[49m\u001b[43m,\u001b[49m\n\u001b[1;32m     78\u001b[0m \u001b[43m        \u001b[49m\u001b[43mn_eigenvecs\u001b[49m\u001b[38;5;241;43m=\u001b[39;49m\u001b[43mrank\u001b[49m\u001b[43m,\u001b[49m\n\u001b[1;32m     79\u001b[0m \u001b[43m        \u001b[49m\u001b[43mmethod\u001b[49m\u001b[38;5;241;43m=\u001b[39;49m\u001b[43msvd\u001b[49m\u001b[43m,\u001b[49m\n\u001b[1;32m     80\u001b[0m \u001b[43m        \u001b[49m\u001b[43mnon_negative\u001b[49m\u001b[38;5;241;43m=\u001b[39;49m\u001b[43mnon_negative\u001b[49m\u001b[43m,\u001b[49m\n\u001b[1;32m     81\u001b[0m \u001b[43m        \u001b[49m\u001b[43mmask\u001b[49m\u001b[38;5;241;43m=\u001b[39;49m\u001b[43mmask_unfold\u001b[49m\u001b[43m,\u001b[49m\n\u001b[1;32m     82\u001b[0m \u001b[43m        \u001b[49m\u001b[43mn_iter_mask_imputation\u001b[49m\u001b[38;5;241;43m=\u001b[39;49m\u001b[43msvd_mask_repeats\u001b[49m\u001b[43m,\u001b[49m\n\u001b[1;32m     83\u001b[0m \u001b[43m    \u001b[49m\u001b[43m)\u001b[49m\n\u001b[1;32m     85\u001b[0m     \u001b[38;5;66;03m# Put SVD initialization on the same scaling as the tensor in case normalize_factors=False\u001b[39;00m\n\u001b[1;32m     86\u001b[0m     \u001b[38;5;28;01mif\u001b[39;00m mode \u001b[38;5;241m==\u001b[39m \u001b[38;5;241m0\u001b[39m:\n",
      "File \u001b[0;32m~/anaconda3/envs/laser/lib/python3.11/site-packages/tensorly/tenalg/svd.py:418\u001b[0m, in \u001b[0;36msvd_interface\u001b[0;34m(matrix, method, n_eigenvecs, flip_sign, u_based_flip_sign, non_negative, mask, n_iter_mask_imputation, **kwargs)\u001b[0m\n\u001b[1;32m    413\u001b[0m \u001b[38;5;28;01melse\u001b[39;00m:\n\u001b[1;32m    414\u001b[0m     \u001b[38;5;28;01mraise\u001b[39;00m \u001b[38;5;167;01mValueError\u001b[39;00m(\n\u001b[1;32m    415\u001b[0m         \u001b[38;5;124mf\u001b[39m\u001b[38;5;124m\"\u001b[39m\u001b[38;5;124mGot svd=\u001b[39m\u001b[38;5;132;01m{\u001b[39;00mmethod\u001b[38;5;132;01m}\u001b[39;00m\u001b[38;5;124m. However, the possible choices are \u001b[39m\u001b[38;5;132;01m{\u001b[39;00mSVD_FUNS\u001b[38;5;132;01m}\u001b[39;00m\u001b[38;5;124m or to pass a callable.\u001b[39m\u001b[38;5;124m\"\u001b[39m\n\u001b[1;32m    416\u001b[0m     )\n\u001b[0;32m--> 418\u001b[0m U, S, V \u001b[38;5;241m=\u001b[39m \u001b[43msvd_fun\u001b[49m\u001b[43m(\u001b[49m\u001b[43mmatrix\u001b[49m\u001b[43m,\u001b[49m\u001b[43m \u001b[49m\u001b[43mn_eigenvecs\u001b[49m\u001b[38;5;241;43m=\u001b[39;49m\u001b[43mn_eigenvecs\u001b[49m\u001b[43m,\u001b[49m\u001b[43m \u001b[49m\u001b[38;5;241;43m*\u001b[39;49m\u001b[38;5;241;43m*\u001b[39;49m\u001b[43mkwargs\u001b[49m\u001b[43m)\u001b[49m\n\u001b[1;32m    420\u001b[0m \u001b[38;5;28;01mif\u001b[39;00m mask \u001b[38;5;129;01mis\u001b[39;00m \u001b[38;5;129;01mnot\u001b[39;00m \u001b[38;5;28;01mNone\u001b[39;00m:\n\u001b[1;32m    421\u001b[0m     \u001b[38;5;28;01mfor\u001b[39;00m _ \u001b[38;5;129;01min\u001b[39;00m \u001b[38;5;28mrange\u001b[39m(n_iter_mask_imputation):\n",
      "File \u001b[0;32m~/anaconda3/envs/laser/lib/python3.11/site-packages/tensorly/tenalg/svd.py:226\u001b[0m, in \u001b[0;36mtruncated_svd\u001b[0;34m(matrix, n_eigenvecs, **kwargs)\u001b[0m\n\u001b[1;32m    223\u001b[0m n_eigenvecs, min_dim, _ \u001b[38;5;241m=\u001b[39m svd_checks(matrix, n_eigenvecs\u001b[38;5;241m=\u001b[39mn_eigenvecs)\n\u001b[1;32m    224\u001b[0m full_matrices \u001b[38;5;241m=\u001b[39m \u001b[38;5;28;01mTrue\u001b[39;00m \u001b[38;5;28;01mif\u001b[39;00m n_eigenvecs \u001b[38;5;241m>\u001b[39m min_dim \u001b[38;5;28;01melse\u001b[39;00m \u001b[38;5;28;01mFalse\u001b[39;00m\n\u001b[0;32m--> 226\u001b[0m U, S, V \u001b[38;5;241m=\u001b[39m \u001b[43mtl\u001b[49m\u001b[38;5;241;43m.\u001b[39;49m\u001b[43msvd\u001b[49m\u001b[43m(\u001b[49m\u001b[43mmatrix\u001b[49m\u001b[43m,\u001b[49m\u001b[43m \u001b[49m\u001b[43mfull_matrices\u001b[49m\u001b[38;5;241;43m=\u001b[39;49m\u001b[43mfull_matrices\u001b[49m\u001b[43m)\u001b[49m\n\u001b[1;32m    227\u001b[0m \u001b[38;5;28;01mreturn\u001b[39;00m U[:, :n_eigenvecs], S[:n_eigenvecs], V[:n_eigenvecs, :]\n",
      "File \u001b[0;32m~/anaconda3/envs/laser/lib/python3.11/site-packages/tensorly/backend/__init__.py:206\u001b[0m, in \u001b[0;36mBackendManager.dispatch_backend_method.<locals>.wrapped_backend_method\u001b[0;34m(*args, **kwargs)\u001b[0m\n\u001b[1;32m    202\u001b[0m \u001b[38;5;28;01mdef\u001b[39;00m \u001b[38;5;21mwrapped_backend_method\u001b[39m(\u001b[38;5;241m*\u001b[39margs, \u001b[38;5;241m*\u001b[39m\u001b[38;5;241m*\u001b[39mkwargs):\n\u001b[1;32m    203\u001b[0m \u001b[38;5;250m    \u001b[39m\u001b[38;5;124;03m\"\"\"A dynamically dispatched method\u001b[39;00m\n\u001b[1;32m    204\u001b[0m \n\u001b[1;32m    205\u001b[0m \u001b[38;5;124;03m    Returns the queried method from the currently set backend\"\"\"\u001b[39;00m\n\u001b[0;32m--> 206\u001b[0m     \u001b[38;5;28;01mreturn\u001b[39;00m \u001b[38;5;28;43mgetattr\u001b[39;49m\u001b[43m(\u001b[49m\n\u001b[1;32m    207\u001b[0m \u001b[43m        \u001b[49m\u001b[38;5;28;43mcls\u001b[39;49m\u001b[38;5;241;43m.\u001b[39;49m\u001b[43m_THREAD_LOCAL_DATA\u001b[49m\u001b[38;5;241;43m.\u001b[39;49m\u001b[38;5;18;43m__dict__\u001b[39;49m\u001b[38;5;241;43m.\u001b[39;49m\u001b[43mget\u001b[49m\u001b[43m(\u001b[49m\u001b[38;5;124;43m\"\u001b[39;49m\u001b[38;5;124;43mbackend\u001b[39;49m\u001b[38;5;124;43m\"\u001b[39;49m\u001b[43m,\u001b[49m\u001b[43m \u001b[49m\u001b[38;5;28;43mcls\u001b[39;49m\u001b[38;5;241;43m.\u001b[39;49m\u001b[43m_backend\u001b[49m\u001b[43m)\u001b[49m\u001b[43m,\u001b[49m\u001b[43m \u001b[49m\u001b[43mname\u001b[49m\n\u001b[1;32m    208\u001b[0m \u001b[43m    \u001b[49m\u001b[43m)\u001b[49m\u001b[43m(\u001b[49m\u001b[38;5;241;43m*\u001b[39;49m\u001b[43margs\u001b[49m\u001b[43m,\u001b[49m\u001b[43m \u001b[49m\u001b[38;5;241;43m*\u001b[39;49m\u001b[38;5;241;43m*\u001b[39;49m\u001b[43mkwargs\u001b[49m\u001b[43m)\u001b[49m\n",
      "File \u001b[0;32m~/anaconda3/envs/laser/lib/python3.11/site-packages/numpy/linalg/linalg.py:1681\u001b[0m, in \u001b[0;36msvd\u001b[0;34m(a, full_matrices, compute_uv, hermitian)\u001b[0m\n\u001b[1;32m   1678\u001b[0m         gufunc \u001b[38;5;241m=\u001b[39m _umath_linalg\u001b[38;5;241m.\u001b[39msvd_n_s\n\u001b[1;32m   1680\u001b[0m signature \u001b[38;5;241m=\u001b[39m \u001b[38;5;124m'\u001b[39m\u001b[38;5;124mD->DdD\u001b[39m\u001b[38;5;124m'\u001b[39m \u001b[38;5;28;01mif\u001b[39;00m isComplexType(t) \u001b[38;5;28;01melse\u001b[39;00m \u001b[38;5;124m'\u001b[39m\u001b[38;5;124md->ddd\u001b[39m\u001b[38;5;124m'\u001b[39m\n\u001b[0;32m-> 1681\u001b[0m u, s, vh \u001b[38;5;241m=\u001b[39m \u001b[43mgufunc\u001b[49m\u001b[43m(\u001b[49m\u001b[43ma\u001b[49m\u001b[43m,\u001b[49m\u001b[43m \u001b[49m\u001b[43msignature\u001b[49m\u001b[38;5;241;43m=\u001b[39;49m\u001b[43msignature\u001b[49m\u001b[43m,\u001b[49m\u001b[43m \u001b[49m\u001b[43mextobj\u001b[49m\u001b[38;5;241;43m=\u001b[39;49m\u001b[43mextobj\u001b[49m\u001b[43m)\u001b[49m\n\u001b[1;32m   1682\u001b[0m u \u001b[38;5;241m=\u001b[39m u\u001b[38;5;241m.\u001b[39mastype(result_t, copy\u001b[38;5;241m=\u001b[39m\u001b[38;5;28;01mFalse\u001b[39;00m)\n\u001b[1;32m   1683\u001b[0m s \u001b[38;5;241m=\u001b[39m s\u001b[38;5;241m.\u001b[39mastype(_realType(result_t), copy\u001b[38;5;241m=\u001b[39m\u001b[38;5;28;01mFalse\u001b[39;00m)\n",
      "\u001b[0;31mMemoryError\u001b[0m: Unable to allocate 2.53 TiB for an array with shape (589824, 589824) and data type float64"
     ]
    }
   ],
   "source": [
    "plot_reconstruction_error(stacked_tensor, 20)"
   ]
  },
  {
   "cell_type": "code",
   "execution_count": null,
   "metadata": {},
   "outputs": [
    {
     "name": "stdout",
     "output_type": "stream",
     "text": [
      "5.86198e-06\n"
     ]
    }
   ],
   "source": [
    "decomposed = tl.decomposition.parafac(stacked_tensor, rank=2)\n",
    "reconstructed_tensor = tl.kruskal_to_tensor(decomposed)\n",
    "reconstruction_error = tl.norm(stacked_tensor - reconstructed_tensor)\n",
    "print(reconstruction_error)"
   ]
  },
  {
   "cell_type": "code",
   "execution_count": null,
   "metadata": {},
   "outputs": [
    {
     "data": {
      "text/plain": [
       "(4, 4, 768, 768)"
      ]
     },
     "execution_count": 22,
     "metadata": {},
     "output_type": "execute_result"
    }
   ],
   "source": [
    "unstacked_reconstructed_tensor = stacked_tensor.reshape(-1, 4, 768, 768)\n",
    "unstacked_reconstructed_tensor.shape\n",
    "\n"
   ]
  },
  {
   "cell_type": "code",
   "execution_count": null,
   "metadata": {},
   "outputs": [
    {
     "data": {
      "text/plain": [
       "RobertaForSequenceClassification(\n",
       "  (roberta): RobertaModel(\n",
       "    (embeddings): RobertaEmbeddings(\n",
       "      (word_embeddings): Embedding(50265, 768, padding_idx=1)\n",
       "      (position_embeddings): Embedding(514, 768, padding_idx=1)\n",
       "      (token_type_embeddings): Embedding(1, 768)\n",
       "      (LayerNorm): LayerNorm((768,), eps=1e-05, elementwise_affine=True)\n",
       "      (dropout): Dropout(p=0.1, inplace=False)\n",
       "    )\n",
       "    (encoder): RobertaEncoder(\n",
       "      (layer): ModuleList(\n",
       "        (0-11): 12 x RobertaLayer(\n",
       "          (attention): RobertaAttention(\n",
       "            (self): RobertaSelfAttention(\n",
       "              (query): Linear(in_features=768, out_features=768, bias=True)\n",
       "              (key): Linear(in_features=768, out_features=768, bias=True)\n",
       "              (value): Linear(in_features=768, out_features=768, bias=True)\n",
       "              (dropout): Dropout(p=0.1, inplace=False)\n",
       "            )\n",
       "            (output): RobertaSelfOutput(\n",
       "              (dense): Linear(in_features=768, out_features=768, bias=True)\n",
       "              (LayerNorm): LayerNorm((768,), eps=1e-05, elementwise_affine=True)\n",
       "              (dropout): Dropout(p=0.1, inplace=False)\n",
       "            )\n",
       "          )\n",
       "          (intermediate): RobertaIntermediate(\n",
       "            (dense): Linear(in_features=768, out_features=3072, bias=True)\n",
       "            (intermediate_act_fn): GELUActivation()\n",
       "          )\n",
       "          (output): RobertaOutput(\n",
       "            (dense): Linear(in_features=3072, out_features=768, bias=True)\n",
       "            (LayerNorm): LayerNorm((768,), eps=1e-05, elementwise_affine=True)\n",
       "            (dropout): Dropout(p=0.1, inplace=False)\n",
       "          )\n",
       "        )\n",
       "      )\n",
       "    )\n",
       "  )\n",
       "  (classifier): RobertaClassificationHead(\n",
       "    (dense): Linear(in_features=768, out_features=768, bias=True)\n",
       "    (dropout): Dropout(p=0.1, inplace=False)\n",
       "    (out_proj): Linear(in_features=768, out_features=2, bias=True)\n",
       "  )\n",
       ")"
      ]
     },
     "execution_count": 23,
     "metadata": {},
     "output_type": "execute_result"
    }
   ],
   "source": [
    "for i, layer in enumerate(selected_layers):\n",
    "    layer_weights = unstacked_reconstructed_tensor[i]\n",
    "    \n",
    "    reconstructed_query_weights = layer_weights[0]\n",
    "    reconstructed_key_weights = layer_weights[1]\n",
    "    reconstructed_value_weights = layer_weights[2]\n",
    "    reconstructed_output_weights = layer_weights[3]\n",
    "    \n",
    "    model_to_edit.roberta.encoder.layer[layer].attention.self.query.weight = torch.nn.Parameter(torch.tensor(reconstructed_query_weights))\n",
    "    model_to_edit.roberta.encoder.layer[layer].attention.self.key.weight = torch.nn.Parameter(torch.tensor(reconstructed_key_weights))\n",
    "    model_to_edit.roberta.encoder.layer[layer].attention.self.value.weight = torch.nn.Parameter(torch.tensor(reconstructed_value_weights))\n",
    "    model_to_edit.roberta.encoder.layer[layer].attention.output.dense.weight = torch.nn.Parameter(torch.tensor(reconstructed_output_weights))\n",
    "    \n",
    "model_to_edit.to(device)"
   ]
  },
  {
   "cell_type": "code",
   "execution_count": null,
   "metadata": {},
   "outputs": [
    {
     "name": "stdout",
     "output_type": "stream",
     "text": [
      "Accuracy:  0.3705\n",
      "Loss:  0.08930150580406189\n"
     ]
    }
   ],
   "source": [
    "for batch in data_loader:\n",
    "    batch = {k: v.to(device) for k, v in batch.items()}\n",
    "    labels = batch['labels']\n",
    "    outputs = model_to_edit(**batch)\n",
    "    loss = outputs.loss\n",
    "    logits = outputs.logits\n",
    "    \n",
    "    total_loss += loss.item()\n",
    "    total += labels.size(0)\n",
    "    correct += (torch.argmax(logits, -1) == labels).sum().item()\n",
    "    \n",
    "print(\"Accuracy: \", correct/total)\n",
    "\n",
    "print(\"Loss: \", total_loss/total)\n"
   ]
  },
  {
   "cell_type": "code",
   "execution_count": null,
   "metadata": {},
   "outputs": [],
   "source": []
  }
 ],
 "metadata": {
  "kernelspec": {
   "display_name": "Research",
   "language": "python",
   "name": "python3"
  },
  "language_info": {
   "codemirror_mode": {
    "name": "ipython",
    "version": 3
   },
   "file_extension": ".py",
   "mimetype": "text/x-python",
   "name": "python",
   "nbconvert_exporter": "python",
   "pygments_lexer": "ipython3",
   "version": "3.11.5"
  }
 },
 "nbformat": 4,
 "nbformat_minor": 2
}
